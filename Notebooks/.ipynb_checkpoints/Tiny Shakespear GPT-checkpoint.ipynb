{
 "cells": [
  {
   "cell_type": "code",
   "execution_count": 1,
   "id": "1b4fe7b8-759c-492f-821b-f32595ea579d",
   "metadata": {},
   "outputs": [],
   "source": [
    "# read it in to inspect it\n",
    "with open('data/input.txt', 'r', encoding='utf-8') as f:\n",
    "    text = f.read()"
   ]
  },
  {
   "cell_type": "code",
   "execution_count": 2,
   "id": "91244838-829c-4dc4-9d1e-dc5e125c15a2",
   "metadata": {},
   "outputs": [
    {
     "name": "stdout",
     "output_type": "stream",
     "text": [
      "length of dataset in characters:  1115394\n"
     ]
    }
   ],
   "source": [
    "print(\"length of dataset in characters: \", len(text))"
   ]
  },
  {
   "cell_type": "code",
   "execution_count": 3,
   "id": "033fd947-d726-4ff6-81a3-c03d421dd2c1",
   "metadata": {},
   "outputs": [
    {
     "name": "stdout",
     "output_type": "stream",
     "text": [
      "First Citizen:\n",
      "Before we proceed any further, hear me speak.\n",
      "\n",
      "All:\n",
      "Speak, speak.\n",
      "\n",
      "First Citizen:\n",
      "You are all resolved rather to die than to famish?\n",
      "\n",
      "All:\n",
      "Resolved. resolved.\n",
      "\n",
      "First Citizen:\n",
      "First, you know Caius Marcius is chief enemy to the people.\n",
      "\n",
      "All:\n",
      "We know't, we know't.\n",
      "\n",
      "First Citizen:\n",
      "Let us kill him, and we'll have corn at our own price.\n",
      "Is't a verdict?\n",
      "\n",
      "All:\n",
      "No more talking on't; let it be done: away, away!\n",
      "\n",
      "Second Citizen:\n",
      "One word, good citizens.\n",
      "\n",
      "First Citizen:\n",
      "We are accounted poor\n"
     ]
    }
   ],
   "source": [
    "print(text[:500])"
   ]
  },
  {
   "cell_type": "code",
   "execution_count": 4,
   "id": "ef1d2c36-7853-48e4-b709-fe8aaa791424",
   "metadata": {},
   "outputs": [
    {
     "name": "stdout",
     "output_type": "stream",
     "text": [
      "\n",
      " !$&',-.3:;?ABCDEFGHIJKLMNOPQRSTUVWXYZabcdefghijklmnopqrstuvwxyz\n",
      "65\n"
     ]
    }
   ],
   "source": [
    "# here are all the unique characters that occur in this text\n",
    "chars = sorted(list(set(text)))\n",
    "vocab_size = len(chars)\n",
    "print(''.join(chars))\n",
    "print(vocab_size)"
   ]
  },
  {
   "cell_type": "code",
   "execution_count": 5,
   "id": "93d9ece2-7fc9-4beb-b856-68ca20165587",
   "metadata": {},
   "outputs": [
    {
     "name": "stdout",
     "output_type": "stream",
     "text": [
      "[46, 47, 47, 1, 58, 46, 43, 56, 43]\n",
      "hii there\n"
     ]
    }
   ],
   "source": [
    "# create a mapping from characters to integers\n",
    "stoi = { ch:i for i,ch in enumerate(chars) }\n",
    "itos = { i:ch for i,ch in enumerate(chars) }\n",
    "encode = lambda s: [stoi[c] for c in s] # encoder: take a string, output a list of integers\n",
    "decode = lambda l: ''.join([itos[i] for i in l]) # decoder: take a list of integers, output a string\n",
    "\n",
    "print(encode(\"hii there\"))\n",
    "print(decode(encode(\"hii there\")))"
   ]
  },
  {
   "cell_type": "code",
   "execution_count": 6,
   "id": "b1d40e7e-89a1-4e08-acbd-ce95525003ba",
   "metadata": {},
   "outputs": [
    {
     "name": "stdout",
     "output_type": "stream",
     "text": [
      "torch.int64 torch.Size([1115394])\n"
     ]
    },
    {
     "data": {
      "text/plain": [
       "tensor([18, 47, 56, 57, 58,  1, 15, 47, 58, 47])"
      ]
     },
     "execution_count": 6,
     "metadata": {},
     "output_type": "execute_result"
    }
   ],
   "source": [
    "import torch\n",
    "data = torch.tensor(encode(text), dtype=torch.long)\n",
    "print(data.dtype, data.shape)\n",
    "data[:10]"
   ]
  },
  {
   "cell_type": "code",
   "execution_count": 7,
   "id": "9de659bd-c0eb-463f-a287-2093d8b863b7",
   "metadata": {},
   "outputs": [],
   "source": [
    "n = int(0.9*len(data))\n",
    "train_data = data[:n]\n",
    "val_data = data[n:]"
   ]
  },
  {
   "cell_type": "code",
   "execution_count": 8,
   "id": "0b40a757-1a36-459e-969c-c0bdb8882a4a",
   "metadata": {},
   "outputs": [],
   "source": [
    "block_size = 8 # context length"
   ]
  },
  {
   "cell_type": "code",
   "execution_count": 9,
   "id": "d4175957-19d2-4fb6-b501-1c212606d6b5",
   "metadata": {},
   "outputs": [
    {
     "name": "stdout",
     "output_type": "stream",
     "text": [
      "tensor([18]) tensor(47)\n",
      "tensor([18, 47]) tensor(56)\n",
      "tensor([18, 47, 56]) tensor(57)\n",
      "tensor([18, 47, 56, 57]) tensor(58)\n",
      "tensor([18, 47, 56, 57, 58]) tensor(1)\n",
      "tensor([18, 47, 56, 57, 58,  1]) tensor(15)\n",
      "tensor([18, 47, 56, 57, 58,  1, 15]) tensor(47)\n",
      "tensor([18, 47, 56, 57, 58,  1, 15, 47]) tensor(58)\n"
     ]
    }
   ],
   "source": [
    "x = train_data[:block_size]\n",
    "y = train_data[:block_size+1]\n",
    "for i in range(block_size):\n",
    "    context = x[:i+1]\n",
    "    print(context, y[i+1])"
   ]
  },
  {
   "cell_type": "code",
   "execution_count": 10,
   "id": "514589e9-b19b-40cf-94a2-994a7f6378a3",
   "metadata": {},
   "outputs": [],
   "source": [
    "torch.manual_seed(1337)\n",
    "batch_size = 4\n",
    "block_size = 8 \n",
    "\n",
    "def get_batch(split):\n",
    "    data = train_data if split == 'train' else val_data\n",
    "    ix = torch.randint(len(data)-block_size , (batch_size,))\n",
    "    x = torch.stack([data[i:i+block_size] for i in ix])\n",
    "    y = torch.stack([data[i+1:i+block_size+1] for i in ix])\n",
    "    return x,y"
   ]
  },
  {
   "cell_type": "code",
   "execution_count": 12,
   "id": "533c2022-11dd-42be-9125-d75bd9382b43",
   "metadata": {},
   "outputs": [
    {
     "name": "stdout",
     "output_type": "stream",
     "text": [
      "input torch.Size([4, 8]) tensor([[57, 43, 60, 43, 52,  1, 63, 43],\n",
      "        [60, 43, 42,  8,  0, 25, 63,  1],\n",
      "        [56, 42,  5, 57,  1, 57, 39, 49],\n",
      "        [43, 57, 58, 63,  6,  1, 58, 46]])\n",
      "output torch.Size([4, 8]) tensor([[43, 60, 43, 52,  1, 63, 43, 39],\n",
      "        [43, 42,  8,  0, 25, 63,  1, 45],\n",
      "        [42,  5, 57,  1, 57, 39, 49, 43],\n",
      "        [57, 58, 63,  6,  1, 58, 46, 47]])\n",
      "Context: tensor([57]) Target: 43\n",
      "Context: tensor([57, 43]) Target: 60\n",
      "Context: tensor([57, 43, 60]) Target: 43\n",
      "Context: tensor([57, 43, 60, 43]) Target: 52\n",
      "Context: tensor([57, 43, 60, 43, 52]) Target: 1\n",
      "Context: tensor([57, 43, 60, 43, 52,  1]) Target: 63\n",
      "Context: tensor([57, 43, 60, 43, 52,  1, 63]) Target: 43\n",
      "Context: tensor([57, 43, 60, 43, 52,  1, 63, 43]) Target: 39\n",
      "Context: tensor([60]) Target: 43\n",
      "Context: tensor([60, 43]) Target: 42\n",
      "Context: tensor([60, 43, 42]) Target: 8\n",
      "Context: tensor([60, 43, 42,  8]) Target: 0\n",
      "Context: tensor([60, 43, 42,  8,  0]) Target: 25\n",
      "Context: tensor([60, 43, 42,  8,  0, 25]) Target: 63\n",
      "Context: tensor([60, 43, 42,  8,  0, 25, 63]) Target: 1\n",
      "Context: tensor([60, 43, 42,  8,  0, 25, 63,  1]) Target: 45\n",
      "Context: tensor([56]) Target: 42\n",
      "Context: tensor([56, 42]) Target: 5\n",
      "Context: tensor([56, 42,  5]) Target: 57\n",
      "Context: tensor([56, 42,  5, 57]) Target: 1\n",
      "Context: tensor([56, 42,  5, 57,  1]) Target: 57\n",
      "Context: tensor([56, 42,  5, 57,  1, 57]) Target: 39\n",
      "Context: tensor([56, 42,  5, 57,  1, 57, 39]) Target: 49\n",
      "Context: tensor([56, 42,  5, 57,  1, 57, 39, 49]) Target: 43\n",
      "Context: tensor([43]) Target: 57\n",
      "Context: tensor([43, 57]) Target: 58\n",
      "Context: tensor([43, 57, 58]) Target: 63\n",
      "Context: tensor([43, 57, 58, 63]) Target: 6\n",
      "Context: tensor([43, 57, 58, 63,  6]) Target: 1\n",
      "Context: tensor([43, 57, 58, 63,  6,  1]) Target: 58\n",
      "Context: tensor([43, 57, 58, 63,  6,  1, 58]) Target: 46\n",
      "Context: tensor([43, 57, 58, 63,  6,  1, 58, 46]) Target: 47\n"
     ]
    }
   ],
   "source": [
    "Xb, Yb = get_batch('train')\n",
    "print('input', Xb.shape, Xb)\n",
    "print('output', Yb.shape, Yb)\n",
    "for b in range(batch_size): \n",
    "    for t in range(block_size): # time dimension\n",
    "        context = Xb[b, :t+1]\n",
    "        target = Yb[b, t]\n",
    "        print(f'Context: {context} Target: {target}')"
   ]
  },
  {
   "cell_type": "code",
   "execution_count": 14,
   "id": "0bc533bd-c13f-46d8-a1c2-d646cd12a4fe",
   "metadata": {},
   "outputs": [
    {
     "name": "stdout",
     "output_type": "stream",
     "text": [
      "torch.Size([32, 65])\n",
      "tensor(4.4150, grad_fn=<NllLossBackward0>)\n",
      "\n",
      "SKIcLT;AcELMoTbvZv C?nq-QE33:CJqkOKH-q;:la!oiywkHjgChzbQ?u!3bLIgwevmyFJGUGp\n",
      "wnYWmnxKWWev-tDqXErVKLgJ\n"
     ]
    }
   ],
   "source": [
    "# Bigram Language Model\n",
    "import torch\n",
    "import torch.nn as nn\n",
    "from torch.nn  import functional as F\n",
    "torch.manual_seed(1337)\n",
    "\n",
    "\n",
    "class BigramLangaugeModel(nn.Module):\n",
    "    \n",
    "    def __init__(self, vocab_size):\n",
    "        super().__init__()\n",
    "        # create embedding\n",
    "        self.token_embedding_table = nn.Embedding(vocab_size, vocab_size)\n",
    "        \n",
    "    def forward(self, idx, targets=None):\n",
    "        logits = self.token_embedding_table(idx)   # (B,T,C)\n",
    "        if targets is None:\n",
    "            loss = None\n",
    "        else:\n",
    "            B, T, C = logits.shape\n",
    "            logits = logits.view(B*T, C)\n",
    "            targets = targets.view(B*T)\n",
    "            loss = F.cross_entropy(logits, targets)\n",
    "        \n",
    "        return logits, loss\n",
    "    \n",
    "    def generate(self, idx, max_new_tokens):\n",
    "        for _ in range(max_new_tokens):\n",
    "            logits, loss = self(idx)\n",
    "            # focus only on the las \n",
    "            logits = logits[:, -1, :] # becomes (B,C)\n",
    "            # apply the softmax to get probablities\n",
    "            probs = F.softmax(logits, dim=1)     # (B, C)\n",
    "            # sample from the distribution\n",
    "            idx_next = torch.multinomial(probs, num_samples=1) # (B, 1)\n",
    "            # append the sampled index to the running sequence\n",
    "            idx = torch.cat((idx, idx_next), dim=1) # (B, T+1)\n",
    "        return idx\n",
    "\n",
    "model = BigramLangaugeModel(vocab_size)\n",
    "logits, loss = model(Xb, Yb)\n",
    "print(logits.shape)\n",
    "print(loss)\n",
    "print(decode(model.generate(idx=torch.zeros((1,1), dtype=torch.long), max_new_tokens=100)[0].tolist()))"
   ]
  },
  {
   "cell_type": "code",
   "execution_count": 15,
   "id": "0c0053f3-e7e5-4bed-9b67-fc38863c810b",
   "metadata": {},
   "outputs": [],
   "source": [
    "# create a pytorch optimizer\n",
    "optimizer = torch.optim.AdamW(model.parameters(), lr=1e-3)"
   ]
  },
  {
   "cell_type": "code",
   "execution_count": 31,
   "id": "11db3ee6-7236-4f4f-869a-ad1d530eedc1",
   "metadata": {},
   "outputs": [
    {
     "name": "stdout",
     "output_type": "stream",
     "text": [
      "2.4695398807525635\n"
     ]
    }
   ],
   "source": [
    "batch_size = 32\n",
    "for steps in range(1000):\n",
    "    \n",
    "    # sample batch from the data\n",
    "    xb, yb = get_batch('train')\n",
    "    \n",
    "    # evaluate the loss\n",
    "    logits, loss = model(xb, yb)\n",
    "    optimizer.zero_grad(set_to_none=True)\n",
    "    loss.backward()\n",
    "    optimizer.step()\n",
    "    \n",
    "print(loss.item())"
   ]
  },
  {
   "cell_type": "code",
   "execution_count": 35,
   "id": "45913dd1-e4e7-4ed0-abbf-f638fefe56e6",
   "metadata": {},
   "outputs": [
    {
     "name": "stdout",
     "output_type": "stream",
     "text": [
      "\n",
      "I wenord t m:\n",
      "\n",
      "\n",
      "The by rhenesht aly me\n",
      "Dqut ostsas th hr arizz; ple nthonees hf IARene t, these, blf\n"
     ]
    }
   ],
   "source": [
    "print(decode(model.generate(idx=torch.zeros((1,1), dtype=torch.long), max_new_tokens=100)[0].tolist()))"
   ]
  },
  {
   "cell_type": "code",
   "execution_count": 36,
   "id": "c8bc2c62-66e2-42ee-b649-60719027b0c4",
   "metadata": {},
   "outputs": [],
   "source": [
    "# tokens need to start talking to each other"
   ]
  },
  {
   "cell_type": "code",
   "execution_count": null,
   "id": "4905eb50-64d7-4f96-8bde-69fa133d9991",
   "metadata": {},
   "outputs": [],
   "source": []
  }
 ],
 "metadata": {
  "kernelspec": {
   "display_name": "Python 3 (ipykernel)",
   "language": "python",
   "name": "python3"
  },
  "language_info": {
   "codemirror_mode": {
    "name": "ipython",
    "version": 3
   },
   "file_extension": ".py",
   "mimetype": "text/x-python",
   "name": "python",
   "nbconvert_exporter": "python",
   "pygments_lexer": "ipython3",
   "version": "3.10.4"
  }
 },
 "nbformat": 4,
 "nbformat_minor": 5
}
