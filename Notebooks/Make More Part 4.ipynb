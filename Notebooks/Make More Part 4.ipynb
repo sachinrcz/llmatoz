{
 "cells": [
  {
   "cell_type": "code",
   "execution_count": 1,
   "id": "9191ee8a-5324-41bd-b17c-ecfaf717eed5",
   "metadata": {},
   "outputs": [],
   "source": [
    "import torch\n",
    "import torch.nn.functional as F\n",
    "import matplotlib.pyplot as plt # for making figures\n",
    "%matplotlib inline"
   ]
  },
  {
   "cell_type": "code",
   "execution_count": 2,
   "id": "d096aab0-4cea-4a1f-8ce7-2c4f935b547b",
   "metadata": {},
   "outputs": [
    {
     "data": {
      "text/plain": [
       "['emma', 'olivia', 'ava', 'isabella', 'sophia', 'charlotte', 'mia', 'amelia']"
      ]
     },
     "execution_count": 2,
     "metadata": {},
     "output_type": "execute_result"
    }
   ],
   "source": [
    "# read in all the words\n",
    "words = open('names.txt', 'r').read().splitlines()\n",
    "words[:8]"
   ]
  },
  {
   "cell_type": "code",
   "execution_count": 3,
   "id": "52cbd21a-c5a4-469e-b15d-b20a83a63279",
   "metadata": {},
   "outputs": [
    {
     "name": "stdout",
     "output_type": "stream",
     "text": [
      "stoi: {'a': 1, 'b': 2, 'c': 3, 'd': 4, 'e': 5, 'f': 6, 'g': 7, 'h': 8, 'i': 9, 'j': 10, 'k': 11, 'l': 12, 'm': 13, 'n': 14, 'o': 15, 'p': 16, 'q': 17, 'r': 18, 's': 19, 't': 20, 'u': 21, 'v': 22, 'w': 23, 'x': 24, 'y': 25, 'z': 26}\n",
      "itos: {1: 'a', 2: 'b', 3: 'c', 4: 'd', 5: 'e', 6: 'f', 7: 'g', 8: 'h', 9: 'i', 10: 'j', 11: 'k', 12: 'l', 13: 'm', 14: 'n', 15: 'o', 16: 'p', 17: 'q', 18: 'r', 19: 's', 20: 't', 21: 'u', 22: 'v', 23: 'w', 24: 'x', 25: 'y', 26: 'z', 0: '.'}\n",
      "Size: 27\n"
     ]
    }
   ],
   "source": [
    "# build the vocabulary of characters and mappings to/from integers\n",
    "chars = sorted(list(set(''.join(words))))\n",
    "stoi = {s:i+1 for i,s in enumerate(chars)}\n",
    "print(f'stoi: {stoi}')\n",
    "stoi['.'] = 0\n",
    "itos = {i:s for s,i in stoi.items()}\n",
    "vocab_size = len(itos)\n",
    "print(f'itos: {itos}')\n",
    "print(f'Size: {vocab_size}')"
   ]
  },
  {
   "cell_type": "code",
   "execution_count": 4,
   "id": "af58a56f-4483-4ce6-a543-8a2d080b7f50",
   "metadata": {},
   "outputs": [
    {
     "name": "stdout",
     "output_type": "stream",
     "text": [
      "torch.Size([182625, 3]) torch.Size([182625])\n",
      "torch.Size([22655, 3]) torch.Size([22655])\n",
      "torch.Size([22866, 3]) torch.Size([22866])\n"
     ]
    }
   ],
   "source": [
    "# build the dataset\n",
    "block_size = 3 # context length: how many characters do we take to predict the next one?\n",
    "\n",
    "def build_dataset(words):  \n",
    "  X, Y = [], []\n",
    "  for w in words:\n",
    "\n",
    "    #print(w)\n",
    "    context = [0] * block_size\n",
    "    for ch in w + '.':\n",
    "      ix = stoi[ch]\n",
    "      X.append(context)\n",
    "      Y.append(ix)\n",
    "      #print(''.join(itos[i] for i in context), '--->', itos[ix])\n",
    "      context = context[1:] + [ix] # crop and append\n",
    "\n",
    "  X = torch.tensor(X)\n",
    "  Y = torch.tensor(Y)\n",
    "  print(X.shape, Y.shape)\n",
    "  return X, Y\n",
    "\n",
    "import random\n",
    "random.seed(42)\n",
    "random.shuffle(words)\n",
    "n1 = int(0.8*len(words))\n",
    "n2 = int(0.9*len(words))\n",
    "\n",
    "Xtr, Ytr = build_dataset(words[:n1])\n",
    "Xdev, Ydev = build_dataset(words[n1:n2])\n",
    "Xte, Yte = build_dataset(words[n2:])"
   ]
  },
  {
   "cell_type": "code",
   "execution_count": 5,
   "id": "096fbade-d0a0-4166-adda-567cec246b81",
   "metadata": {},
   "outputs": [],
   "source": [
    "# boilerplate code is finished"
   ]
  },
  {
   "cell_type": "code",
   "execution_count": 6,
   "id": "a82eab82-44bb-48ea-9cff-5d49ec31e077",
   "metadata": {},
   "outputs": [],
   "source": [
    "# utility function to compare gradient calculated manually with gradient from pytorch\n",
    "def cmp(s, dt, t):\n",
    "    ex = torch.all(dt == t.grad).item()\n",
    "    app = torch.allclose(dt, t.grad)\n",
    "    maxdiff = (dt - t.grad).abs().max().item()\n",
    "    print(f'{s:15s} | exact {str(ex):5s} | approximate: {str(app):5s} | maxdiff: {maxdiff}')"
   ]
  },
  {
   "cell_type": "code",
   "execution_count": 7,
   "id": "b92f701f-aa66-4e4e-95ea-7638ab3e0c59",
   "metadata": {},
   "outputs": [
    {
     "name": "stdout",
     "output_type": "stream",
     "text": [
      "4137\n"
     ]
    }
   ],
   "source": [
    "n_embd = 10 # the dimensionality of the character embedding vectors\n",
    "n_hidden = 64 # the number of neurons in the hidden layer of the MLP\n",
    "\n",
    "g = torch.Generator().manual_seed(2147483647) # for reproducibility\n",
    "C  = torch.randn((vocab_size, n_embd),            generator=g)\n",
    "# Layer 1\n",
    "W1 = torch.randn((n_embd * block_size, n_hidden), generator=g) * (5/3)/((n_embd * block_size)**0.5)\n",
    "b1 = torch.randn(n_hidden,                        generator=g) * 0.1 # using b1 just for fun, it's useless because of BN\n",
    "# Layer 2\n",
    "W2 = torch.randn((n_hidden, vocab_size),          generator=g) * 0.1\n",
    "b2 = torch.randn(vocab_size,                      generator=g) * 0.1\n",
    "# BatchNorm parameters\n",
    "bngain = torch.randn(1, n_hidden)*0.1 + 1.0\n",
    "bnbias = torch.randn(1, n_hidden)*0.1\n",
    "\n",
    "# Note: I am initializating many of these parameters in non-standard ways\n",
    "# because sometimes initializating with e.g. all zeros could mask an incorrect\n",
    "# implementation of the backward pass.\n",
    "\n",
    "parameters = [C, W1, b1, W2, b2, bngain, bnbias]\n",
    "print(sum(p.nelement() for p in parameters)) # number of parameters in total\n",
    "for p in parameters:\n",
    "  p.requires_grad = True"
   ]
  },
  {
   "cell_type": "code",
   "execution_count": 8,
   "id": "132d58ba-aa0b-4c41-8db2-a68e8663c534",
   "metadata": {},
   "outputs": [],
   "source": [
    "# mini-batch\n",
    "batch_size = 32\n",
    "n = batch_size #shorter variable for convernience\n",
    "\n",
    "ix = torch.randint(0, Xtr.shape[0], (batch_size, ), generator=g)\n",
    "Xb, Yb = Xtr[ix], Ytr[ix]"
   ]
  },
  {
   "cell_type": "code",
   "execution_count": 9,
   "id": "dc93d834-0ebe-4ec0-bcc2-1daf59ada3d0",
   "metadata": {},
   "outputs": [
    {
     "data": {
      "text/plain": [
       "tensor(3.3389, grad_fn=<NegBackward0>)"
      ]
     },
     "execution_count": 9,
     "metadata": {},
     "output_type": "execute_result"
    }
   ],
   "source": [
    "# forward pass\n",
    "emb = C[Xb]      # embed the characters into vectors *dimension 32x3x10\n",
    "embcat = emb.view(Xb.shape[0], -1)  # concatenate the vectors   * dimension 32x30\n",
    "\n",
    "#linear layer\n",
    "hprebn = embcat@W1 + b1#  hidden layer preactivation\n",
    "\n",
    "# Batch Normalization Layer\n",
    "# -----------------------------------------------\n",
    "bnmeani = 1/n*hprebn.sum(0, keepdim=True)\n",
    "bndiff = hprebn - bnmeani\n",
    "bndiff2 = bndiff**2\n",
    "bnvar = 1/(n-1)*(bndiff2).sum(0, keepdim=True) # note: Bessel's correction (dividing by n-1, not n)\n",
    "bnvar_inv = (bnvar + 1e-5)**-0.5\n",
    "bnraw = bndiff * bnvar_inv\n",
    "hpreact = bngain * bnraw + bnbias\n",
    "\n",
    "# -----------------------------------------------\n",
    "\n",
    "# non-linearity using tanh\n",
    "\n",
    "h = torch.tanh(hpreact) # hidden layer\n",
    "\n",
    "# linear layer 2\n",
    "logits = h @ W2 + b2    # output layer\n",
    "\n",
    "# cross entropy\n",
    "# loss = F.cross_entropy(logits, Yb)   # loss function\n",
    "logit_maxes = logits.max(1, keepdim=True).values\n",
    "norm_logits = logits - logit_maxes # subtract max for numerical stability\n",
    "counts = norm_logits.exp()\n",
    "counts_sum = counts.sum(1, keepdims=True)\n",
    "counts_sum_inv = counts_sum**-1 # if I use (1.0 / counts_sum) instead then I can't get backprop to be bit exact...\n",
    "probs = counts * counts_sum_inv\n",
    "logprobs = probs.log()\n",
    "loss = -logprobs[range(n), Yb].mean()\n",
    "\n",
    "\n",
    "#backward pass\n",
    "for p in parameters:\n",
    "    p.grad = None\n",
    "for t in [logprobs, probs, counts, counts_sum, counts_sum_inv, # afaik there is no cleaner way\n",
    "          norm_logits, logit_maxes, logits, h, hpreact, bnraw,\n",
    "         bnvar_inv, bnvar, bndiff2, bndiff, hprebn, bnmeani,\n",
    "         embcat, emb]:\n",
    "  t.retain_grad()\n",
    "loss.backward()\n",
    "loss"
   ]
  },
  {
   "cell_type": "code",
   "execution_count": 36,
   "id": "212f1f02-00fc-4a3b-9648-80247bf56160",
   "metadata": {
    "jupyter": {
     "source_hidden": true
    },
    "tags": []
   },
   "outputs": [
    {
     "name": "stdout",
     "output_type": "stream",
     "text": [
      "dlogprobs       | exact True  | approximate: True  | maxdiff: 0.0\n",
      "probs           | exact True  | approximate: True  | maxdiff: 0.0\n",
      "counts_sum_inv  | exact True  | approximate: True  | maxdiff: 0.0\n",
      "counts_sum      | exact True  | approximate: True  | maxdiff: 0.0\n",
      "counts          | exact True  | approximate: True  | maxdiff: 0.0\n",
      "norm_logits     | exact True  | approximate: True  | maxdiff: 0.0\n",
      "logit_maxes     | exact True  | approximate: True  | maxdiff: 0.0\n",
      "logits          | exact True  | approximate: True  | maxdiff: 0.0\n",
      "h               | exact True  | approximate: True  | maxdiff: 0.0\n",
      "W2              | exact True  | approximate: True  | maxdiff: 0.0\n",
      "b2              | exact True  | approximate: True  | maxdiff: 0.0\n",
      "hpreact         | exact True  | approximate: True  | maxdiff: 0.0\n"
     ]
    }
   ],
   "source": [
    "## dlogprobs i.e. dloss/dlogprobs\n",
    "# cmp('logprobs', dlogprobs, logprobs)\n",
    "# dlogprobs = ???\n",
    "\n",
    "#loss = -logprobs[range(n), Yb].mean()\n",
    "\n",
    "# logprobs = probs.log()\n",
    "\n",
    "logprobs.shape #32 x 27\n",
    "\n",
    "# mean is same as taking average so loss = -logprobs[range(n), Yb].sum()/n\n",
    "\n",
    "# smaller example loss = -(a+b+c)/3 => \n",
    "# dloss/da = -1/3, -1/3, -1/3\n",
    "\n",
    "# dloss/dlogprobs = -1/n\n",
    "dlogprobs = torch.zeros_like(logprobs)\n",
    "dlogprobs[range(n), Yb] = -1/n\n",
    "\n",
    "cmp(\"dlogprobs\", dlogprobs, logprobs)\n",
    "\n",
    "## cmp('probs', dprobs, probs)\n",
    "# logprobs = probs.log()\n",
    "# dprobs = ???\n",
    "# dloss/dprobs = dllogprobs/dlog * dloss/dlogprobs\n",
    "\n",
    "# y = log(x) => dy/dx = 1/x\n",
    "# 1/probs is local derivative and then dlogprobs get chained \n",
    "# if prob assigned is low, it gets higher derivative as it needs bigger change\n",
    "dprobs = (1/probs) * dlogprobs\n",
    "cmp('probs', dprobs, probs)\n",
    "\n",
    "# cmp('counts_sum_inv', dcounts_sum_inv, counts_sum_inv)\n",
    "# probs = counts * counts_sum_inv\n",
    "# dcounts_sum_inv = ??\n",
    "# dloss/dcounts_sum_inv = dprobs/dcounts_sum_inv * dloss/dprobs\n",
    "\n",
    "\n",
    "# y = a * x => dy/dx = a\n",
    "# local derivative = > counts\n",
    "\n",
    "# counts * counts_sum_inv  --> two openration happens here, multiplication and replication(broadcasting) \n",
    "# a [3x3] b[3x1]\n",
    "# a11*b1 + a12*b1+ a13*b1\n",
    "# a21*b2 + a22*b2 + a23*b2\n",
    "# a31*b3 + a32*b2 + a33*b3 \n",
    "\n",
    "# print(probs.shape, counts.shape, counts_sum_inv.shape)\n",
    "\n",
    "\n",
    "\n",
    "dcounts_sum_inv = (counts * dprobs).sum(1, keepdim=True)  # sum is from backpropagation through broadcasting/replication of columns\n",
    "cmp('counts_sum_inv', dcounts_sum_inv, counts_sum_inv)\n",
    "\n",
    "# cmp('counts_sum', dcounts_sum, counts_sum)\n",
    "# counts_sum = counts.sum(1, keepdims=True)\n",
    "# counts_sum_inv = counts_sum**-1\n",
    "# probs = counts * counts_sum_inv\n",
    "\n",
    "# dcounts_sum = ?\n",
    "\n",
    "# dloss/dcounts_sum = dcounts_sum_inv/dcounts_sum * dloss/dcounts_sum_inv\n",
    "\n",
    "# y = a*x\n",
    "dcounts = counts_sum_inv * dprobs\n",
    "dcounts_sum = (-1 * counts_sum**-2) * dcounts_sum_inv\n",
    "\n",
    "cmp('counts_sum', dcounts_sum, counts_sum)\n",
    "\n",
    "# cmp('counts', dcounts, counts)\n",
    "# counts_sum = counts.sum(1, keepdims=True)\n",
    "\n",
    "# dcounts is used two times\n",
    "# dcounts = ?\n",
    "# dcounts/dloss = dcounts_sum/dcounts * dloss/dcounts_sum\n",
    "\n",
    "# retrace through sum for differentiation\n",
    "\n",
    "dcounts += torch.ones_like(counts) * dcounts_sum\n",
    "cmp('counts', dcounts, counts)\n",
    "\n",
    "# cmp('norm_logits', dnorm_logits, norm_logits)\n",
    "# counts = norm_logits.exp()\n",
    "# dnorm_logits = ?\n",
    "\n",
    "# dloss/dnorm_logits = dcounts/ dnorm_logits * dloss/dcounts\n",
    "\n",
    "dnorm_logits = norm_logits.exp() * dcounts\n",
    "cmp('norm_logits', dnorm_logits, norm_logits)\n",
    "\n",
    "# cmp('logit_maxes', dlogit_maxes, logit_maxes)\n",
    "  \n",
    "# logit_maxes = logits.max(1, keepdim=True).values\n",
    "# norm_logits = logits - logit_maxes # subtract max for numerical stability\n",
    "\n",
    "\n",
    "# dlogit_maxes = ?\n",
    "\n",
    "# dloss/dlogit_maxes = dnorm_logits / dlogit_maxes * dloss/dnorm_logits\n",
    "\n",
    "# local derivative ?\n",
    "\n",
    "# c11, c12, c13 = a11, a12, a13 - b1\n",
    "# c21, c22, c23 = a21, a22, a23 - b2\n",
    "# c31, c32, c33 = a31, a32, a33 - b3\n",
    "# so eg c22 = a22 - b2\n",
    "\n",
    "# print(norm_logits.shape, logits.shape , logit_maxes.shape)\n",
    "dlogits = dnorm_logits.clone() # dlogits = dnorm_logits/dlogits * dloss/dnorm_logits => dnorm_logits/dlogits = 1\n",
    "\n",
    "dlogit_maxes = (-dnorm_logits).sum(1, keepdim=True)   # replication/broadcasting in subtraction\n",
    "cmp('logit_maxes', dlogit_maxes, logit_maxes)\n",
    "\n",
    "\n",
    "# cmp('logits', dlogits, logits)\n",
    "# logit_maxes = logits.max(1, keepdim=True).values\n",
    "\n",
    "# dlogits =?\n",
    "# dloss/dlogits = dlogit_maxes/dlogit * dloss/dlogit_maxes\n",
    "\n",
    "# a11, a12, a13 -> a12\n",
    "# b21, b22, b23 -> b23\n",
    "# c31, c32, c33 -> c31\n",
    "\n",
    "temp_logits = torch.zeros_like(logits)\n",
    "temp_logits[range(32), logits.argmax(dim=1)] = 1\n",
    "dlogits += temp_logits * dlogit_maxes\n",
    "\n",
    "\n",
    "cmp('logits', dlogits, logits)\n",
    "\n",
    "# logits = h @ W2 + b2  \n",
    "# cmp('h', dh, h)\n",
    "\n",
    "# dloss/dh = dlogits/dh * dloss/dlogits\n",
    "\n",
    "# print(logits.shape, h.shape, W2.shape, b2.shape, dlogits.shape)\n",
    "# TODO: check solution by manually solving matrix multiplication differentiation\n",
    "\n",
    "dh = (dlogits @ W2.transpose(0, 1))\n",
    "cmp('h', dh, h)\n",
    "\n",
    "\n",
    "# logits = h @ W2 + b2  \n",
    "# cmp('W2', dW2, W2)\n",
    "\n",
    "# dW2=?\n",
    "# dloss/dW2 = dlogits/dW2 * dloss/dlogits\n",
    "# print(logits.shape, h.shape, W2.shape, dlogits.shape)\n",
    "dW2 = (h.transpose(0,1)@dlogits)\n",
    "cmp('W2', dW2, W2)\n",
    "\n",
    "# cmp('b2', db2, b2)\n",
    "# logits = h @ W2 + b2 \n",
    "\n",
    "# db2=?\n",
    "# dloss/db2 = dlogits/db2 * dloss/dlogits\n",
    "# print(logits.shape, h.shape, W2.shape, b2a.shape, dlogits.shape)\n",
    "db2 = dlogits.sum(0, keepdim=False)\n",
    "cmp('b2', db2, b2)\n",
    "\n",
    "# cmp('hpreact', dhpreact, hpreact)\n",
    "# h = torch.tanh(hpreact) \n",
    "# dhpreact = ?\n",
    "# dloss/dhpreact = dh/dhpreacht * dloss/dh\n",
    "\n",
    "dhpreact = (1-h**2) * dh\n",
    "cmp('hpreact', dhpreact, hpreact)"
   ]
  },
  {
   "cell_type": "code",
   "execution_count": 44,
   "id": "39061e7b-fd4d-4ffc-930c-728adcb7b33d",
   "metadata": {},
   "outputs": [
    {
     "name": "stdout",
     "output_type": "stream",
     "text": [
      "bngain          | exact True  | approximate: True  | maxdiff: 0.0\n"
     ]
    }
   ],
   "source": [
    "# cmp('bngain', dbngain, bngain)\n",
    "# hpreact = bngain * bnraw + bnbias\n",
    "\n",
    "# dbngain = ?\n",
    "# dloss/dbngain = dhpreact/dbngain * dloss/dhpreact\n",
    "# print(hpreact.shape, bngain.shape, bnraw.shape, bnbias.shape)\n",
    "# torch.Size([32, 64]) torch.Size([1, 64]) torch.Size([32, 64]) torch.Size([1, 64])\n",
    "dbngain = (bnraw * dhpreact).sum(0, keepdim=True)\n",
    "\n",
    "cmp('bngain', dbngain, bngain)"
   ]
  },
  {
   "cell_type": "code",
   "execution_count": 43,
   "id": "45f79212-869c-4372-9cd6-5af8dd53b2e6",
   "metadata": {},
   "outputs": [
    {
     "name": "stdout",
     "output_type": "stream",
     "text": [
      "bnbias          | exact True  | approximate: True  | maxdiff: 0.0\n"
     ]
    }
   ],
   "source": [
    "# cmp('bnbias', dbnbias, bnbias)\n",
    "# hpreact = bngain * bnraw + bnbias\n",
    "\n",
    "# dbnbias = ?\n",
    "# dloss/dbnbias = dhpreact/dbnbias * dloss/dhpreact\n",
    "dbnbias = (dhpreact).sum(0, keepdim=True)\n",
    "cmp('bnbias', dbnbias, bnbias)"
   ]
  },
  {
   "cell_type": "code",
   "execution_count": 48,
   "id": "8329802c-c032-4890-abab-e9bc823e8123",
   "metadata": {},
   "outputs": [
    {
     "data": {
      "text/plain": [
       "torch.Size([32, 64])"
      ]
     },
     "execution_count": 48,
     "metadata": {},
     "output_type": "execute_result"
    }
   ],
   "source": [
    "# cmp('bnraw', dbnraw, bnraw)\n",
    "# hpreact = bngain * bnraw + bnbias\n",
    "\n",
    "# dbnraw=?\n",
    "# dloss/dbnraw = dhpreact/dbnraw * dloss/dhpreact\n",
    "dbnraw = dhpreact\n",
    "dbnraw.shape\n",
    "# cmp('bnraw', dbnraw, bnraw)"
   ]
  },
  {
   "cell_type": "code",
   "execution_count": 20,
   "id": "4f009baf-7656-4764-ae1b-dc81437e897a",
   "metadata": {},
   "outputs": [
    {
     "name": "stdout",
     "output_type": "stream",
     "text": [
      "logprobs        | exact True  | approximate: True  | maxdiff: 0.0\n",
      "probs           | exact True  | approximate: True  | maxdiff: 0.0\n",
      "counts_sum_inv  | exact True  | approximate: True  | maxdiff: 0.0\n"
     ]
    }
   ],
   "source": [
    "# Exercise 1: backprop through the whole thing manually,\n",
    "# backpropagating through exactly all of the variables\n",
    "# as they are defined in the forward pass above, one by one\n",
    "\n",
    "# -----------------\n",
    "# YOUR CODE HERE :)\n",
    "# -----------------\n",
    "\n",
    "dlogprobs = torch.zeros_like(logprobs)                 # dloss/dlogprobs\n",
    "dlogprobs[range(n), Yb] = -1.0/n                \n",
    "\n",
    "dprobs = (1.0/probs )* dlogprobs    #  dloss/dprobs = dlogprobs/dprobs * dloss/dlogprobs\n",
    "\n",
    "dcounts_sum_inv = (counts * dprobs).sum(1, keepdim=True)      # dloss/dcounts_sum_inv = dprobs/dcounts_sum_inv * dloss/dprobs\n",
    "# have to sum because there are two operations.. multiplication and transformation \n",
    "\n",
    "cmp('logprobs', dlogprobs, logprobs)\n",
    "cmp('probs', dprobs, probs)\n",
    "cmp('counts_sum_inv', dcounts_sum_inv, counts_sum_inv)\n",
    "# cmp('counts_sum', dcounts_sum, counts_sum)\n",
    "# cmp('counts', dcounts, counts)\n",
    "# cmp('norm_logits', dnorm_logits, norm_logits)\n",
    "# cmp('logit_maxes', dlogit_maxes, logit_maxes)\n",
    "# cmp('logits', dlogits, logits)\n",
    "# cmp('h', dh, h)\n",
    "# cmp('W2', dW2, W2)\n",
    "# cmp('b2', db2, b2)\n",
    "# cmp('hpreact', dhpreact, hpreact)\n",
    "# cmp('bngain', dbngain, bngain)\n",
    "# cmp('bnbias', dbnbias, bnbias)\n",
    "# cmp('bnraw', dbnraw, bnraw)\n",
    "# cmp('bnvar_inv', dbnvar_inv, bnvar_inv)\n",
    "# cmp('bnvar', dbnvar, bnvar)\n",
    "# cmp('bndiff2', dbndiff2, bndiff2)\n",
    "# cmp('bndiff', dbndiff, bndiff)\n",
    "# cmp('bnmeani', dbnmeani, bnmeani)\n",
    "# cmp('hprebn', dhprebn, hprebn)\n",
    "# cmp('embcat', dembcat, embcat)\n",
    "# cmp('W1', dW1, W1)\n",
    "# cmp('b1', db1, b1)\n",
    "# cmp('emb', demb, emb)\n",
    "# cmp('C', dC, C)"
   ]
  },
  {
   "cell_type": "code",
   "execution_count": null,
   "id": "1a0b99ca-57ec-4ff4-ac1b-c5ff3fa2d1b2",
   "metadata": {},
   "outputs": [],
   "source": []
  }
 ],
 "metadata": {
  "kernelspec": {
   "display_name": "Python 3 (ipykernel)",
   "language": "python",
   "name": "python3"
  },
  "language_info": {
   "codemirror_mode": {
    "name": "ipython",
    "version": 3
   },
   "file_extension": ".py",
   "mimetype": "text/x-python",
   "name": "python",
   "nbconvert_exporter": "python",
   "pygments_lexer": "ipython3",
   "version": "3.10.4"
  }
 },
 "nbformat": 4,
 "nbformat_minor": 5
}
