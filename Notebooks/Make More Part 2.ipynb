{
 "cells": [
  {
   "cell_type": "code",
   "execution_count": 1,
   "id": "a841e0b4-f174-4bed-a78f-f4690d881ff6",
   "metadata": {},
   "outputs": [],
   "source": [
    "import torch\n",
    "import torch.nn.functional as F\n",
    "import matplotlib.pyplot as plt\n",
    "%matplotlib inline"
   ]
  },
  {
   "cell_type": "code",
   "execution_count": 2,
   "id": "f5447cce-c69a-42dc-b98a-7b276cd3526a",
   "metadata": {},
   "outputs": [
    {
     "data": {
      "text/plain": [
       "['emma', 'olivia', 'ava', 'isabella', 'sophia', 'charlotte', 'mia', 'amelia']"
      ]
     },
     "execution_count": 2,
     "metadata": {},
     "output_type": "execute_result"
    }
   ],
   "source": [
    "words = open('../data/names.txt', 'r').read().splitlines()\n",
    "words[:8]"
   ]
  },
  {
   "cell_type": "code",
   "execution_count": 3,
   "id": "b017d0e2-d559-4d35-b2f2-a2b17833b9d6",
   "metadata": {},
   "outputs": [
    {
     "data": {
      "text/plain": [
       "32033"
      ]
     },
     "execution_count": 3,
     "metadata": {},
     "output_type": "execute_result"
    }
   ],
   "source": [
    "len(words)"
   ]
  },
  {
   "cell_type": "code",
   "execution_count": 4,
   "id": "f28b3b84-3247-4275-b720-8f36a911b144",
   "metadata": {},
   "outputs": [
    {
     "name": "stdout",
     "output_type": "stream",
     "text": [
      "{1: 'a', 2: 'b', 3: 'c', 4: 'd', 5: 'e', 6: 'f', 7: 'g', 8: 'h', 9: 'i', 10: 'j', 11: 'k', 12: 'l', 13: 'm', 14: 'n', 15: 'o', 16: 'p', 17: 'q', 18: 'r', 19: 's', 20: 't', 21: 'u', 22: 'v', 23: 'w', 24: 'x', 25: 'y', 26: 'z', 0: '.'}\n"
     ]
    }
   ],
   "source": [
    "# build the vocabulary of characters and mapping to/from integers\n",
    "chars = sorted(list(set(''.join(words))))\n",
    "stoi = {s: i+1 for i,s in enumerate(chars)}\n",
    "stoi['.']=0\n",
    "itos = {i:s for s,i in stoi.items()}\n",
    "print(itos)"
   ]
  },
  {
   "cell_type": "code",
   "execution_count": 5,
   "id": "65cb0a4f-e2c8-4f38-9087-424c16ba3ff3",
   "metadata": {},
   "outputs": [
    {
     "name": "stdout",
     "output_type": "stream",
     "text": [
      "emma\n",
      "... -----> e\n",
      "..e -----> m\n",
      ".em -----> m\n",
      "emm -----> a\n",
      "mma -----> .\n",
      "olivia\n",
      "... -----> o\n",
      "..o -----> l\n",
      ".ol -----> i\n",
      "oli -----> v\n",
      "liv -----> i\n",
      "ivi -----> a\n",
      "via -----> .\n",
      "ava\n",
      "... -----> a\n",
      "..a -----> v\n",
      ".av -----> a\n",
      "ava -----> .\n",
      "isabella\n",
      "... -----> i\n",
      "..i -----> s\n",
      ".is -----> a\n",
      "isa -----> b\n",
      "sab -----> e\n",
      "abe -----> l\n",
      "bel -----> l\n",
      "ell -----> a\n",
      "lla -----> .\n",
      "sophia\n",
      "... -----> s\n",
      "..s -----> o\n",
      ".so -----> p\n",
      "sop -----> h\n",
      "oph -----> i\n",
      "phi -----> a\n",
      "hia -----> .\n"
     ]
    }
   ],
   "source": [
    "# build the dataset\n",
    "\n",
    "block_size = 3 # context length: how many characters do we take to predict the next one?\n",
    "X, Y = [], []\n",
    "word_subset = 5 # number of words to use as subset for ease\n",
    "\n",
    "for w in words[:word_subset]:\n",
    "    print(w)\n",
    "    context = [0]*block_size\n",
    "    # print(context)\n",
    "    for ch in w+'.':\n",
    "        ix=stoi[ch]\n",
    "        X.append(context)\n",
    "        Y.append(ix)\n",
    "        print(''.join(itos[i] for i in context), '----->', itos[ix])\n",
    "        # print(context, '--->', ix)\n",
    "        context = context[1:] + [ix]\n",
    "        \n",
    "X = torch.tensor(X)\n",
    "Y = torch.tensor(Y)\n",
    "# print(X)\n",
    "# print(Y)\n",
    "\n"
   ]
  },
  {
   "cell_type": "code",
   "execution_count": 6,
   "id": "599223ff-1fe8-48e0-b317-80028fc7c2e7",
   "metadata": {},
   "outputs": [
    {
     "data": {
      "text/plain": [
       "tensor([[ 0,  0,  0],\n",
       "        [ 0,  0,  5],\n",
       "        [ 0,  5, 13],\n",
       "        [ 5, 13, 13],\n",
       "        [13, 13,  1],\n",
       "        [ 0,  0,  0],\n",
       "        [ 0,  0, 15],\n",
       "        [ 0, 15, 12],\n",
       "        [15, 12,  9],\n",
       "        [12,  9, 22],\n",
       "        [ 9, 22,  9],\n",
       "        [22,  9,  1],\n",
       "        [ 0,  0,  0],\n",
       "        [ 0,  0,  1],\n",
       "        [ 0,  1, 22],\n",
       "        [ 1, 22,  1],\n",
       "        [ 0,  0,  0],\n",
       "        [ 0,  0,  9],\n",
       "        [ 0,  9, 19],\n",
       "        [ 9, 19,  1],\n",
       "        [19,  1,  2],\n",
       "        [ 1,  2,  5],\n",
       "        [ 2,  5, 12],\n",
       "        [ 5, 12, 12],\n",
       "        [12, 12,  1],\n",
       "        [ 0,  0,  0],\n",
       "        [ 0,  0, 19],\n",
       "        [ 0, 19, 15],\n",
       "        [19, 15, 16],\n",
       "        [15, 16,  8],\n",
       "        [16,  8,  9],\n",
       "        [ 8,  9,  1]])"
      ]
     },
     "execution_count": 6,
     "metadata": {},
     "output_type": "execute_result"
    }
   ],
   "source": [
    "X"
   ]
  },
  {
   "cell_type": "code",
   "execution_count": 7,
   "id": "8d1b50a0-0d0d-4085-84c7-b2588dc9ec4e",
   "metadata": {},
   "outputs": [
    {
     "data": {
      "text/plain": [
       "(torch.Size([32, 3]), torch.int64, torch.Size([32]), torch.int64)"
      ]
     },
     "execution_count": 7,
     "metadata": {},
     "output_type": "execute_result"
    }
   ],
   "source": [
    "X.shape, X.dtype, Y.shape, Y.dtype"
   ]
  },
  {
   "cell_type": "code",
   "execution_count": 8,
   "id": "6d042fe1-4842-4dc5-9a46-03a1fdf895b3",
   "metadata": {},
   "outputs": [],
   "source": [
    "embedding_dimension = 2\n",
    "C = torch.randn((27, embedding_dimension))"
   ]
  },
  {
   "cell_type": "code",
   "execution_count": 9,
   "id": "40159eba-6490-4086-8c56-1a4a2b48fd0e",
   "metadata": {},
   "outputs": [
    {
     "data": {
      "text/plain": [
       "tensor([[0, 1, 0],\n",
       "        [0, 1, 0]])"
      ]
     },
     "execution_count": 9,
     "metadata": {},
     "output_type": "execute_result"
    }
   ],
   "source": [
    "z = torch.tensor([[0, 1, 0], [0, 1, 0]])\n",
    "z"
   ]
  },
  {
   "cell_type": "code",
   "execution_count": 10,
   "id": "37a8aba0-165d-43cb-a94f-8e1377e0153e",
   "metadata": {},
   "outputs": [
    {
     "data": {
      "text/plain": [
       "tensor([[-1.1197, -0.7748],\n",
       "        [-0.9498, -0.2959],\n",
       "        [ 0.1206,  0.1497],\n",
       "        [-0.7670, -0.6583],\n",
       "        [ 0.1060,  0.4733],\n",
       "        [ 0.1855,  0.1742],\n",
       "        [ 0.3896, -0.3957],\n",
       "        [-2.1762,  0.0379],\n",
       "        [ 0.7624,  1.1456],\n",
       "        [ 0.1895,  0.0621],\n",
       "        [ 1.0146,  0.8433],\n",
       "        [ 0.3020, -0.7379],\n",
       "        [-0.2721,  1.3285],\n",
       "        [-0.1874, -2.3432],\n",
       "        [ 0.6038, -0.3136],\n",
       "        [ 0.1177, -0.0139],\n",
       "        [-1.0012,  0.2970],\n",
       "        [ 0.2965,  0.3027],\n",
       "        [ 0.7821, -0.4577],\n",
       "        [-0.4684, -1.3080],\n",
       "        [ 0.1698,  1.9390],\n",
       "        [-0.0302, -0.0933],\n",
       "        [-0.8976, -0.2625],\n",
       "        [-1.4158,  0.9903],\n",
       "        [-0.7755,  0.4559],\n",
       "        [-0.8399, -0.4223],\n",
       "        [-1.0810, -1.0641]])"
      ]
     },
     "execution_count": 10,
     "metadata": {},
     "output_type": "execute_result"
    }
   ],
   "source": [
    "C"
   ]
  },
  {
   "cell_type": "code",
   "execution_count": 11,
   "id": "3e8a080f-7cfd-439e-8b8a-4a6a9a2dfc37",
   "metadata": {},
   "outputs": [
    {
     "data": {
      "text/plain": [
       "tensor([[[-1.1197, -0.7748],\n",
       "         [-0.9498, -0.2959],\n",
       "         [-1.1197, -0.7748]],\n",
       "\n",
       "        [[-1.1197, -0.7748],\n",
       "         [-0.9498, -0.2959],\n",
       "         [-1.1197, -0.7748]]])"
      ]
     },
     "execution_count": 11,
     "metadata": {},
     "output_type": "execute_result"
    }
   ],
   "source": [
    "C[z]"
   ]
  },
  {
   "cell_type": "code",
   "execution_count": 12,
   "id": "434563cd-4b87-4406-881e-d76438f9d993",
   "metadata": {},
   "outputs": [
    {
     "data": {
      "text/plain": [
       "torch.Size([2, 3, 2])"
      ]
     },
     "execution_count": 12,
     "metadata": {},
     "output_type": "execute_result"
    }
   ],
   "source": [
    "C[z].shape"
   ]
  },
  {
   "cell_type": "code",
   "execution_count": 13,
   "id": "a20d0d70-3ec4-4dcd-ba9f-fd4f99f99307",
   "metadata": {},
   "outputs": [
    {
     "data": {
      "text/plain": [
       "torch.Size([32, 3, 2])"
      ]
     },
     "execution_count": 13,
     "metadata": {},
     "output_type": "execute_result"
    }
   ],
   "source": [
    "C[X].shape"
   ]
  },
  {
   "cell_type": "code",
   "execution_count": 14,
   "id": "916f21a9-1b7a-4def-a6fd-c08b04857a12",
   "metadata": {},
   "outputs": [
    {
     "data": {
      "text/plain": [
       "torch.Size([32, 3, 2])"
      ]
     },
     "execution_count": 14,
     "metadata": {},
     "output_type": "execute_result"
    }
   ],
   "source": [
    "# embedding for each context in X\n",
    "emb = C[X]\n",
    "emb.shape"
   ]
  },
  {
   "cell_type": "code",
   "execution_count": 15,
   "id": "996ddb72-4ee6-47ba-a2ac-dacea6621116",
   "metadata": {},
   "outputs": [],
   "source": [
    "W1 = torch.rand((6, 100))\n",
    "b1 = torch.rand(100)"
   ]
  },
  {
   "cell_type": "code",
   "execution_count": 16,
   "id": "744b316b-51a2-467d-a144-be6640de1e49",
   "metadata": {},
   "outputs": [],
   "source": [
    "h = torch.tanh(emb.view(-1,6) @ W1 + b1)"
   ]
  },
  {
   "cell_type": "code",
   "execution_count": 17,
   "id": "13f47398-38cb-441f-950d-cd0fcdde21ee",
   "metadata": {},
   "outputs": [
    {
     "data": {
      "text/plain": [
       "torch.Size([32, 100])"
      ]
     },
     "execution_count": 17,
     "metadata": {},
     "output_type": "execute_result"
    }
   ],
   "source": [
    "h.shape"
   ]
  },
  {
   "cell_type": "code",
   "execution_count": 18,
   "id": "e700f9be-307c-447e-8997-408c593f9116",
   "metadata": {},
   "outputs": [
    {
     "data": {
      "text/plain": [
       "tensor([[-0.9930, -0.9950, -0.9760,  ..., -0.9680, -0.8896, -0.9974],\n",
       "        [-0.9575, -0.9020, -0.9322,  ..., -0.9145, -0.7854, -0.9568],\n",
       "        [-0.7321, -0.9438, -0.7017,  ..., -0.2756, -0.8180, -0.9944],\n",
       "        ...,\n",
       "        [ 0.0388,  0.8572, -0.1673,  ...,  0.3502,  0.7698,  0.5985],\n",
       "        [ 0.9288,  0.6614,  0.6500,  ...,  0.9004,  0.4385,  0.7914],\n",
       "        [ 0.4732,  0.5020,  0.7862,  ...,  0.7493,  0.8376,  0.6539]])"
      ]
     },
     "execution_count": 18,
     "metadata": {},
     "output_type": "execute_result"
    }
   ],
   "source": [
    "h"
   ]
  },
  {
   "cell_type": "code",
   "execution_count": 19,
   "id": "ac347896-3b67-4a55-a497-4ed3247e8026",
   "metadata": {},
   "outputs": [],
   "source": [
    "W2 = torch.rand(100, 27)\n",
    "b2 = torch.rand(27)"
   ]
  },
  {
   "cell_type": "code",
   "execution_count": 20,
   "id": "70b69081-7bdb-44ae-905c-aeb92c9630c4",
   "metadata": {},
   "outputs": [],
   "source": [
    "logits = h @ W2 + b2"
   ]
  },
  {
   "cell_type": "code",
   "execution_count": 21,
   "id": "25fcbcb0-f441-40e9-8e99-0ac607eacce9",
   "metadata": {},
   "outputs": [
    {
     "data": {
      "text/plain": [
       "torch.Size([32, 27])"
      ]
     },
     "execution_count": 21,
     "metadata": {},
     "output_type": "execute_result"
    }
   ],
   "source": [
    "logits.shape"
   ]
  },
  {
   "cell_type": "code",
   "execution_count": 22,
   "id": "71d3f3fb-741c-4a41-a65e-74a860baf6dd",
   "metadata": {},
   "outputs": [],
   "source": [
    "counts = logits.exp()"
   ]
  },
  {
   "cell_type": "code",
   "execution_count": 23,
   "id": "be5f5732-f605-4837-998e-60ca1c8f441d",
   "metadata": {},
   "outputs": [],
   "source": [
    "probs = counts/counts.sum(1, keepdims=True)"
   ]
  },
  {
   "cell_type": "code",
   "execution_count": 24,
   "id": "20e6ab39-b3b4-4bf4-bb9f-63bb88459a04",
   "metadata": {},
   "outputs": [
    {
     "data": {
      "text/plain": [
       "torch.Size([32, 27])"
      ]
     },
     "execution_count": 24,
     "metadata": {},
     "output_type": "execute_result"
    }
   ],
   "source": [
    "probs.shape"
   ]
  },
  {
   "cell_type": "code",
   "execution_count": 25,
   "id": "3e89676e-67f4-4d43-899f-2a5a7c7b6b4f",
   "metadata": {},
   "outputs": [
    {
     "data": {
      "text/plain": [
       "tensor(1.0000)"
      ]
     },
     "execution_count": 25,
     "metadata": {},
     "output_type": "execute_result"
    }
   ],
   "source": [
    "probs[0].sum()"
   ]
  },
  {
   "cell_type": "code",
   "execution_count": 26,
   "id": "2df6e515-d6ab-4dcc-8721-cce396abf49d",
   "metadata": {},
   "outputs": [
    {
     "data": {
      "text/plain": [
       "tensor([ 5, 13, 13,  1,  0, 15, 12,  9, 22,  9,  1,  0,  1, 22,  1,  0,  9, 19,\n",
       "         1,  2,  5, 12, 12,  1,  0, 19, 15, 16,  8,  9,  1,  0])"
      ]
     },
     "execution_count": 26,
     "metadata": {},
     "output_type": "execute_result"
    }
   ],
   "source": [
    "Y"
   ]
  },
  {
   "cell_type": "code",
   "execution_count": 27,
   "id": "4e15ad4c-7bd9-479e-b740-bfd507767c92",
   "metadata": {},
   "outputs": [
    {
     "data": {
      "text/plain": [
       "tensor(0.0064)"
      ]
     },
     "execution_count": 27,
     "metadata": {},
     "output_type": "execute_result"
    }
   ],
   "source": [
    "probs[0][5]"
   ]
  },
  {
   "cell_type": "code",
   "execution_count": 28,
   "id": "42b86b2b-142f-4b85-a32d-0584a7729aa6",
   "metadata": {},
   "outputs": [
    {
     "data": {
      "text/plain": [
       "tensor([ 0,  1,  2,  3,  4,  5,  6,  7,  8,  9, 10, 11, 12, 13, 14, 15, 16, 17,\n",
       "        18, 19, 20, 21, 22, 23, 24, 25, 26, 27, 28, 29, 30, 31])"
      ]
     },
     "execution_count": 28,
     "metadata": {},
     "output_type": "execute_result"
    }
   ],
   "source": [
    "torch.arange(32)"
   ]
  },
  {
   "cell_type": "code",
   "execution_count": 29,
   "id": "228d171a-b700-4b52-b549-dee84ae46b14",
   "metadata": {},
   "outputs": [],
   "source": [
    "result = probs[torch.arange(32), Y]"
   ]
  },
  {
   "cell_type": "code",
   "execution_count": 30,
   "id": "a0c73b7a-0fb0-4499-93df-c0ed9b2899a4",
   "metadata": {},
   "outputs": [],
   "source": [
    "loss = - result.log().mean()"
   ]
  },
  {
   "cell_type": "code",
   "execution_count": 31,
   "id": "097e2f17-b464-4e06-b162-2336f09e18bc",
   "metadata": {},
   "outputs": [
    {
     "data": {
      "text/plain": [
       "tensor(4.5994)"
      ]
     },
     "execution_count": 31,
     "metadata": {},
     "output_type": "execute_result"
    }
   ],
   "source": [
    "loss"
   ]
  },
  {
   "cell_type": "markdown",
   "id": "56ac09f3-a7ed-409a-bb14-d68603204b4e",
   "metadata": {},
   "source": [
    "### Summarized Forward Pass"
   ]
  },
  {
   "cell_type": "code",
   "execution_count": 32,
   "id": "2168d8c4-0f61-466c-ab9e-3927701dcb4a",
   "metadata": {},
   "outputs": [],
   "source": [
    "# build the dataset\n",
    "def build_dataset(block_size, word_subset, verbose=False):\n",
    "    X, Y = [], []\n",
    "\n",
    "    for w in words[:word_subset]:\n",
    "        if verbose:\n",
    "            print(w)\n",
    "        context = [0]*block_size\n",
    "        # print(context)\n",
    "        for ch in w+'.':\n",
    "            ix=stoi[ch]\n",
    "            X.append(context)\n",
    "            Y.append(ix)\n",
    "            if verbose:\n",
    "                print(''.join(itos[i] for i in context), '----->', itos[ix])\n",
    "            # print(context, '--->', ix)\n",
    "            context = context[1:] + [ix]\n",
    "\n",
    "    X = torch.tensor(X)\n",
    "    Y = torch.tensor(Y)\n",
    "    return X, Y"
   ]
  },
  {
   "cell_type": "code",
   "execution_count": 33,
   "id": "2ff919a9-6307-47db-9718-a4d1ba2257da",
   "metadata": {},
   "outputs": [
    {
     "name": "stdout",
     "output_type": "stream",
     "text": [
      "Input Shape --> torch.Size([228146, 3]) torch.Size([228146])\n",
      "# of Parameters --> 3481\n"
     ]
    }
   ],
   "source": [
    "embedding_dimension = 2\n",
    "neuron_second_layer = 100\n",
    "block_size = 3\n",
    "word_subset = len(words)\n",
    "X, Y = build_dataset(block_size=block_size, word_subset=word_subset)\n",
    "print(\"Input Shape -->\", X.shape, Y.shape)\n",
    "\n",
    "\n",
    "# generator for reproducable results\n",
    "g = torch.Generator().manual_seed(2147483647)\n",
    "\n",
    "# parameters\n",
    "input_dim = embedding_dimension * block_size\n",
    "C = torch.randn((27, embedding_dimension), generator=g)\n",
    "W1 = torch.rand((input_dim, neuron_second_layer), generator=g)\n",
    "b1 = torch.rand(neuron_second_layer, generator=g)\n",
    "W2 = torch.rand((neuron_second_layer, 27), generator=g)\n",
    "b2 = torch.rand(27, generator=g)\n",
    "parameters = [C, W1, b1 , W2, b2]\n",
    "print(\"# of Parameters -->\", sum(p.nelement() for p in parameters))\n",
    "for p in parameters:\n",
    "    p.requires_grad = True"
   ]
  },
  {
   "cell_type": "code",
   "execution_count": 34,
   "id": "97bb3f61-5b72-4612-94af-64d59b60b24d",
   "metadata": {},
   "outputs": [
    {
     "name": "stdout",
     "output_type": "stream",
     "text": [
      "tensor(3.5523, grad_fn=<NllLossBackward0>)\n"
     ]
    }
   ],
   "source": [
    "for _ in range(100):\n",
    "    #forward pass\n",
    "    emb = C[X]\n",
    "    h = torch.tanh(emb.view(-1, input_dim) @ W1 + b1)\n",
    "    logits = h @ W2 + b2\n",
    "    loss = F.cross_entropy(logits,Y)\n",
    "    \n",
    "    # backward pass\n",
    "    for p in parameters:\n",
    "        p.grad = None   # zero gradient\n",
    "    loss.backward()  # calculate gradients\n",
    "    for p in parameters:\n",
    "        p.data += -0.01 * p.grad   # update parameters\n",
    "print(loss)"
   ]
  },
  {
   "cell_type": "markdown",
   "id": "96ef47b8-09f7-4cca-8564-e062a588cd2a",
   "metadata": {},
   "source": [
    "### Use minibatch to speed up\n",
    "\n",
    "Randomly select a portion of dataset and do forward backward pass and update only on partial dataset\n",
    "\n",
    "Gradient direction is good enough even if estimation on small example.\n",
    "It is much better to have approximate gradient and take more steps than evaluate full gradient and take few steps"
   ]
  },
  {
   "cell_type": "code",
   "execution_count": 35,
   "id": "5a85b0a9-6b92-474f-bf04-301fecfdeff2",
   "metadata": {},
   "outputs": [
    {
     "name": "stdout",
     "output_type": "stream",
     "text": [
      "tensor(3.0185, grad_fn=<NllLossBackward0>)\n"
     ]
    }
   ],
   "source": [
    "for _ in range(1000):\n",
    "    \n",
    "    #minibatch construct\n",
    "    ix = torch.randint(0, X.shape[0], (32, ))\n",
    "    # forward pass\n",
    "    emb = C[X[ix]]\n",
    "    h = torch.tanh(emb.view(-1, input_dim) @ W1 + b1)\n",
    "    logits = h @ W2 + b2\n",
    "    loss = F.cross_entropy(logits,Y[ix])\n",
    "    # print(\"Loss --> \", loss.item())\n",
    "\n",
    "    # backward pass\n",
    "    for p in parameters:\n",
    "        p.grad = None   # zero gradient\n",
    "    loss.backward()  # calculate gradients\n",
    "    for p in parameters:\n",
    "        p.data += -0.001 * p.grad   # update parameters\n",
    "\n",
    "print(loss)"
   ]
  },
  {
   "cell_type": "code",
   "execution_count": 36,
   "id": "ac3f010e-6baa-442e-b691-a7b62247c841",
   "metadata": {},
   "outputs": [
    {
     "name": "stdout",
     "output_type": "stream",
     "text": [
      "tensor(3.2019, grad_fn=<NllLossBackward0>)\n"
     ]
    }
   ],
   "source": [
    "# Loss on full dataset\n",
    "emb = C[X]\n",
    "h = torch.tanh(emb.view(-1, input_dim) @ W1 + b1)\n",
    "logits = h @ W2 + b2\n",
    "loss = F.cross_entropy(logits,Y)\n",
    "print(loss)\n",
    "    "
   ]
  },
  {
   "cell_type": "markdown",
   "id": "b559f4ce-d083-4a2e-a049-a7e26b132d4e",
   "metadata": {},
   "source": [
    "# How to determine learning rate"
   ]
  },
  {
   "cell_type": "code",
   "execution_count": 37,
   "id": "1c809334-869b-4ba9-b29d-8b4dc6dd31c7",
   "metadata": {},
   "outputs": [],
   "source": [
    "# space exponentially in learning rate space\n",
    "lre = torch.linspace(-3, 0, 1000)\n",
    "lrs = 10**lre"
   ]
  },
  {
   "cell_type": "code",
   "execution_count": 38,
   "id": "0fd4fa92-f27e-47ab-be70-9e4c7acc7a21",
   "metadata": {},
   "outputs": [],
   "source": [
    "# reset parameters first\n",
    "lri = []\n",
    "lossi = []\n",
    "for i in range(1000):\n",
    "    \n",
    "    #minibatch construct\n",
    "    ix = torch.randint(0, X.shape[0], (32, ))\n",
    "    # forward pass\n",
    "    emb = C[X[ix]]\n",
    "    h = torch.tanh(emb.view(-1, input_dim) @ W1 + b1)\n",
    "    logits = h @ W2 + b2\n",
    "    loss = F.cross_entropy(logits,Y[ix])\n",
    "    # print(\"Loss --> \", loss.item())\n",
    "\n",
    "    # backward pass\n",
    "    for p in parameters:\n",
    "        p.grad = None   # zero gradient\n",
    "    loss.backward()  # calculate gradients\n",
    "    lr = lrs[i]\n",
    "    for p in parameters:\n",
    "        p.data += -lr * p.grad   # update parameters\n",
    "    # track stats\n",
    "    lri.append(lre[i])  # append from exponent lr\n",
    "    lossi.append(loss.item())"
   ]
  },
  {
   "cell_type": "code",
   "execution_count": 39,
   "id": "e518071a-8df7-4dad-be18-3d444f8444cb",
   "metadata": {},
   "outputs": [
    {
     "data": {
      "text/plain": [
       "[<matplotlib.lines.Line2D at 0x1276b6860>]"
      ]
     },
     "execution_count": 39,
     "metadata": {},
     "output_type": "execute_result"
    },
    {
     "data": {
      "image/png": "[encoded data removed]",
      "text/plain": [
       "<Figure size 640x480 with 1 Axes>"
      ]
     },
     "metadata": {},
     "output_type": "display_data"
    }
   ],
   "source": [
    "plt.plot(lri, lossi)"
   ]
  },
  {
   "cell_type": "markdown",
   "id": "51813b1c-7289-4a47-b20a-f59291833d8e",
   "metadata": {},
   "source": [
    "### Training "
   ]
  },
  {
   "cell_type": "code",
   "execution_count": 40,
   "id": "e906024f-d976-4af5-952f-0c17d649210b",
   "metadata": {},
   "outputs": [
    {
     "name": "stdout",
     "output_type": "stream",
     "text": [
      "Input Shape --> torch.Size([228146, 3]) torch.Size([228146])\n",
      "# of Parameters --> 3481\n"
     ]
    }
   ],
   "source": [
    "embedding_dimension = 2\n",
    "neuron_second_layer = 100\n",
    "block_size = 3\n",
    "word_subset = len(words)\n",
    "X, Y = build_dataset(block_size=block_size, word_subset=word_subset)\n",
    "print(\"Input Shape -->\", X.shape, Y.shape)\n",
    "\n",
    "\n",
    "# generator for reproducable results\n",
    "g = torch.Generator().manual_seed(2147483647)\n",
    "\n",
    "# parameters\n",
    "input_dim = embedding_dimension * block_size\n",
    "C = torch.randn((27, embedding_dimension), generator=g)\n",
    "W1 = torch.rand((input_dim, neuron_second_layer), generator=g)\n",
    "b1 = torch.rand(neuron_second_layer, generator=g)\n",
    "W2 = torch.rand((neuron_second_layer, 27), generator=g)\n",
    "b2 = torch.rand(27, generator=g)\n",
    "parameters = [C, W1, b1 , W2, b2]\n",
    "print(\"# of Parameters -->\", sum(p.nelement() for p in parameters))\n",
    "for p in parameters:\n",
    "    p.requires_grad = True"
   ]
  },
  {
   "cell_type": "code",
   "execution_count": 41,
   "id": "e68ddffd-42e2-4243-96e1-1b84ccf08cc9",
   "metadata": {},
   "outputs": [],
   "source": [
    "def train_model(n=1000, lr=0.1):\n",
    "    for _ in range(n):\n",
    "\n",
    "        #minibatch construct\n",
    "        ix = torch.randint(0, X.shape[0], (32, ))\n",
    "        # forward pass\n",
    "        emb = C[X[ix]]\n",
    "        h = torch.tanh(emb.view(-1, input_dim) @ W1 + b1)\n",
    "        logits = h @ W2 + b2\n",
    "        loss = F.cross_entropy(logits,Y[ix])\n",
    "        # print(\"Loss --> \", loss.item())\n",
    "\n",
    "        # backward pass\n",
    "        for p in parameters:\n",
    "            p.grad = None   # zero gradient\n",
    "        loss.backward()  # calculate gradients\n",
    "        for p in parameters:\n",
    "            p.data += -lr * p.grad   # update parameters\n",
    "\n",
    "    print(f'Full Dataset Loss: {training_loss()}')"
   ]
  },
  {
   "cell_type": "code",
   "execution_count": 42,
   "id": "8a0f71be-5ebb-4319-980f-04130e74dab4",
   "metadata": {},
   "outputs": [],
   "source": [
    "# Loss on full dataset\n",
    "def training_loss():\n",
    "    emb = C[X]\n",
    "    h = torch.tanh(emb.view(-1, input_dim) @ W1 + b1)\n",
    "    logits = h @ W2 + b2\n",
    "    loss = F.cross_entropy(logits,Y)\n",
    "    return loss"
   ]
  },
  {
   "cell_type": "code",
   "execution_count": 43,
   "id": "5201381e-efc5-44b2-864d-27cf7f462d84",
   "metadata": {},
   "outputs": [
    {
     "name": "stdout",
     "output_type": "stream",
     "text": [
      "Full Dataset Loss: 2.359687328338623\n",
      "Full Dataset Loss: 2.3286373615264893\n",
      "Full Dataset Loss: 2.3322935104370117\n",
      "Full Dataset Loss: 2.2484569549560547\n",
      "Full Dataset Loss: 2.242793560028076\n"
     ]
    }
   ],
   "source": [
    "train_model(n=10000)\n",
    "train_model(n=10000)\n",
    "train_model(n=10000)\n",
    "train_model(n=10000, lr=0.01)\n",
    "train_model(n=10000, lr=0.001)"
   ]
  },
  {
   "cell_type": "markdown",
   "id": "c435ecf1-9c27-4657-aa94-3dae7543adf0",
   "metadata": {},
   "source": [
    "### Data Split\n",
    "Training Set, Dev/Validation Set, Test Set\n",
    "80%, 10%, 10%"
   ]
  },
  {
   "cell_type": "code",
   "execution_count": 44,
   "id": "f5f6fb8c-2e01-4b6b-9a49-1b438a2c7d81",
   "metadata": {},
   "outputs": [],
   "source": [
    "# build the dataset\n",
    "def build_dataset(words, block_size=3,verbose=False):\n",
    "    X, Y = [], []\n",
    "\n",
    "    for w in words:\n",
    "        if verbose:\n",
    "            print(w)\n",
    "        context = [0]*block_size\n",
    "        # print(context)\n",
    "        for ch in w+'.':\n",
    "            ix=stoi[ch]\n",
    "            X.append(context)\n",
    "            Y.append(ix)\n",
    "            if verbose:\n",
    "                print(''.join(itos[i] for i in context), '----->', itos[ix])\n",
    "            # print(context, '--->', ix)\n",
    "            context = context[1:] + [ix]\n",
    "\n",
    "    X = torch.tensor(X)\n",
    "    Y = torch.tensor(Y)\n",
    "    print(X.shape, Y.shape)\n",
    "    return X, Y"
   ]
  },
  {
   "cell_type": "code",
   "execution_count": 45,
   "id": "0122fe3d-cb4c-4673-a24c-fda3ed891124",
   "metadata": {},
   "outputs": [
    {
     "name": "stdout",
     "output_type": "stream",
     "text": [
      "torch.Size([182625, 3]) torch.Size([182625])\n",
      "torch.Size([22655, 3]) torch.Size([22655])\n",
      "torch.Size([22866, 3]) torch.Size([22866])\n"
     ]
    }
   ],
   "source": [
    "import random\n",
    "random.seed(42)\n",
    "random.shuffle(words)\n",
    "\n",
    "n1 = int(0.8*len(words))\n",
    "n2 = int(0.9*len(words))\n",
    "\n",
    "Xtr, Ytr = build_dataset(words=words[:n1])\n",
    "Xdev, Ydev = build_dataset(words=words[n1:n2])\n",
    "Xte, Yte = build_dataset(words=words[n2:])"
   ]
  },
  {
   "cell_type": "code",
   "execution_count": 46,
   "id": "fa68cd67-b2ab-466e-8210-25d2f46ea133",
   "metadata": {},
   "outputs": [
    {
     "name": "stdout",
     "output_type": "stream",
     "text": [
      "# of Parameters --> 3481\n"
     ]
    }
   ],
   "source": [
    "embedding_dimension = 2\n",
    "neuron_second_layer = 100\n",
    "\n",
    "# generator for reproducable results\n",
    "g = torch.Generator().manual_seed(2147483647)\n",
    "\n",
    "# parameters\n",
    "input_dim = embedding_dimension * block_size\n",
    "C = torch.randn((27, embedding_dimension), generator=g)\n",
    "W1 = torch.rand((input_dim, neuron_second_layer), generator=g)\n",
    "b1 = torch.rand(neuron_second_layer, generator=g)\n",
    "W2 = torch.rand((neuron_second_layer, 27), generator=g)\n",
    "b2 = torch.rand(27, generator=g)\n",
    "parameters = [C, W1, b1 , W2, b2]\n",
    "print(\"# of Parameters -->\", sum(p.nelement() for p in parameters))\n",
    "for p in parameters:\n",
    "    p.requires_grad = True"
   ]
  },
  {
   "cell_type": "code",
   "execution_count": 47,
   "id": "0783a07a-844f-4bea-984e-5aa0e3833249",
   "metadata": {},
   "outputs": [],
   "source": [
    "def train_model(n=1000, lr=0.1, batch_size=32):\n",
    "    for _ in range(n):\n",
    "\n",
    "        #minibatch construct\n",
    "        ix = torch.randint(0, Xtr.shape[0], (batch_size, ))\n",
    "        # forward pass\n",
    "        emb = C[Xtr[ix]]\n",
    "        h = torch.tanh(emb.view(-1, input_dim) @ W1 + b1)\n",
    "        logits = h @ W2 + b2\n",
    "        loss = F.cross_entropy(logits,Ytr[ix])\n",
    "        # print(\"Loss --> \", loss.item())\n",
    "\n",
    "        # backward pass\n",
    "        for p in parameters:\n",
    "            p.grad = None   # zero gradient\n",
    "        loss.backward()  # calculate gradients\n",
    "        for p in parameters:\n",
    "            p.data += -lr * p.grad   # update parameters\n",
    "\n",
    "    print(f'Traininig Loss: {training_loss()}')"
   ]
  },
  {
   "cell_type": "code",
   "execution_count": 48,
   "id": "19416652-22be-46f2-a369-21da1cebe579",
   "metadata": {},
   "outputs": [],
   "source": [
    "# Loss on full dataset\n",
    "def training_loss():\n",
    "    emb = C[Xtr]\n",
    "    h = torch.tanh(emb.view(-1, input_dim) @ W1 + b1)\n",
    "    logits = h @ W2 + b2\n",
    "    loss = F.cross_entropy(logits,Ytr)\n",
    "    return loss"
   ]
  },
  {
   "cell_type": "code",
   "execution_count": 49,
   "id": "7934487e-6132-40a9-9288-29c9eb0cff76",
   "metadata": {},
   "outputs": [
    {
     "name": "stdout",
     "output_type": "stream",
     "text": [
      "Traininig Loss: 2.4065299034118652\n"
     ]
    }
   ],
   "source": [
    "train_model(n=10000)"
   ]
  },
  {
   "cell_type": "code",
   "execution_count": 50,
   "id": "a3bb2329-02d6-46e6-8608-690f5bc434ca",
   "metadata": {},
   "outputs": [],
   "source": [
    "# Evaluate loss on dev\n",
    "def dev_loss():\n",
    "    emb = C[Xdev]\n",
    "    h = torch.tanh(emb.view(-1, input_dim) @ W1 + b1)\n",
    "    logits = h @ W2 + b2\n",
    "    loss = F.cross_entropy(logits,Ydev)\n",
    "    return loss"
   ]
  },
  {
   "cell_type": "code",
   "execution_count": 51,
   "id": "570d0ea5-c469-4077-913c-5aaeefce2d0f",
   "metadata": {},
   "outputs": [
    {
     "data": {
      "text/plain": [
       "tensor(2.3995, grad_fn=<NllLossBackward0>)"
      ]
     },
     "execution_count": 51,
     "metadata": {},
     "output_type": "execute_result"
    }
   ],
   "source": [
    "dev_loss()"
   ]
  },
  {
   "cell_type": "code",
   "execution_count": 52,
   "id": "60b43637-8893-4992-b0e4-db36c20bb762",
   "metadata": {},
   "outputs": [],
   "source": [
    "# Evaluate loss on test\n",
    "def test_loss():\n",
    "    emb = C[Xte]\n",
    "    h = torch.tanh(emb.view(-1, input_dim) @ W1 + b1)\n",
    "    logits = h @ W2 + b2\n",
    "    loss = F.cross_entropy(logits,Yte)\n",
    "    return loss"
   ]
  },
  {
   "cell_type": "markdown",
   "id": "6e87dbfa-7da9-4bd4-b701-d7a48bf7b710",
   "metadata": {},
   "source": [
    "### Scale Up"
   ]
  },
  {
   "cell_type": "code",
   "execution_count": 53,
   "id": "a77753ca-a3c8-4876-9666-a5b4ca7baca4",
   "metadata": {},
   "outputs": [
    {
     "name": "stdout",
     "output_type": "stream",
     "text": [
      "# of Parameters --> 10281\n"
     ]
    }
   ],
   "source": [
    "embedding_dimension = 2\n",
    "neuron_second_layer = 300\n",
    "\n",
    "# generator for reproducable results\n",
    "g = torch.Generator().manual_seed(2147483647)\n",
    "\n",
    "# parameters\n",
    "input_dim = embedding_dimension * block_size\n",
    "C = torch.randn((27, embedding_dimension), generator=g)\n",
    "W1 = torch.rand((input_dim, neuron_second_layer), generator=g)\n",
    "b1 = torch.rand(neuron_second_layer, generator=g)\n",
    "W2 = torch.rand((neuron_second_layer, 27), generator=g)\n",
    "b2 = torch.rand(27, generator=g)\n",
    "parameters = [C, W1, b1 , W2, b2]\n",
    "print(\"# of Parameters -->\", sum(p.nelement() for p in parameters))\n",
    "for p in parameters:\n",
    "    p.requires_grad = True"
   ]
  },
  {
   "cell_type": "code",
   "execution_count": 54,
   "id": "1c3d4588-09b0-45f3-824f-065fdaddde7d",
   "metadata": {},
   "outputs": [
    {
     "name": "stdout",
     "output_type": "stream",
     "text": [
      "Traininig Loss: 2.346315622329712\n"
     ]
    }
   ],
   "source": [
    "train_model(n=40000)"
   ]
  },
  {
   "cell_type": "code",
   "execution_count": 55,
   "id": "9887ee41-3d87-4843-ad4f-f4f81ded6275",
   "metadata": {},
   "outputs": [
    {
     "name": "stdout",
     "output_type": "stream",
     "text": [
      "Traininig Loss: 2.2603657245635986\n"
     ]
    }
   ],
   "source": [
    "train_model(n=40000, lr=0.001)"
   ]
  },
  {
   "cell_type": "code",
   "execution_count": 56,
   "id": "70e6e665-2f12-49bd-b1ec-c6fc9fb3873d",
   "metadata": {},
   "outputs": [
    {
     "name": "stdout",
     "output_type": "stream",
     "text": [
      "Traininig Loss: 2.2590408325195312\n"
     ]
    }
   ],
   "source": [
    "train_model(n=40000, lr=0.0001)"
   ]
  },
  {
   "cell_type": "code",
   "execution_count": 57,
   "id": "b43a9108-c41c-4e19-a949-6d11909e08bd",
   "metadata": {},
   "outputs": [
    {
     "data": {
      "text/plain": [
       "tensor(2.2612, grad_fn=<NllLossBackward0>)"
      ]
     },
     "execution_count": 57,
     "metadata": {},
     "output_type": "execute_result"
    }
   ],
   "source": [
    "dev_loss()"
   ]
  },
  {
   "cell_type": "code",
   "execution_count": 58,
   "id": "5310c27f-ebc3-4295-afb8-cf0b5e3b721a",
   "metadata": {},
   "outputs": [],
   "source": [
    "# increasing batchsize could also help so we are not thrasing too much"
   ]
  },
  {
   "cell_type": "code",
   "execution_count": 59,
   "id": "ab617950-4dbf-4d43-852f-09cee3109efd",
   "metadata": {},
   "outputs": [
    {
     "data": {
      "image/png": "[encoded data removed]",
      "text/plain": [
       "<Figure size 800x800 with 1 Axes>"
      ]
     },
     "metadata": {},
     "output_type": "display_data"
    }
   ],
   "source": [
    "plt.figure(figsize=(8,8))\n",
    "plt.scatter(C[:,0].data, C[:,1].data, s=200)\n",
    "for i in range(C.shape[0]):\n",
    "    plt.text(C[i,0].item(),C[i,1].item(), itos[i], ha=\"center\", va=\"center\", color=\"white\") \n",
    "plt.grid('minor')"
   ]
  },
  {
   "cell_type": "code",
   "execution_count": 60,
   "id": "56ba62c9-7b3f-43bc-8509-6f232ddd2c7a",
   "metadata": {},
   "outputs": [],
   "source": [
    "# scale empbedding size"
   ]
  },
  {
   "cell_type": "code",
   "execution_count": 61,
   "id": "a2ff08a1-2154-4f10-97ee-a5aeb27845c8",
   "metadata": {},
   "outputs": [
    {
     "name": "stdout",
     "output_type": "stream",
     "text": [
      "# of Parameters --> 44567\n"
     ]
    }
   ],
   "source": [
    "embedding_dimension = 20\n",
    "neuron_second_layer = 500\n",
    "\n",
    "# generator for reproducable results\n",
    "g = torch.Generator().manual_seed(2147483647)\n",
    "\n",
    "# parameters\n",
    "input_dim = embedding_dimension * block_size\n",
    "C = torch.randn((27, embedding_dimension), generator=g)\n",
    "W1 = torch.rand((input_dim, neuron_second_layer), generator=g)\n",
    "b1 = torch.rand(neuron_second_layer, generator=g)\n",
    "W2 = torch.rand((neuron_second_layer, 27), generator=g)\n",
    "b2 = torch.rand(27, generator=g)\n",
    "parameters = [C, W1, b1 , W2, b2]\n",
    "print(\"# of Parameters -->\", sum(p.nelement() for p in parameters))\n",
    "for p in parameters:\n",
    "    p.requires_grad = True"
   ]
  },
  {
   "cell_type": "code",
   "execution_count": 62,
   "id": "f99850a1-3ffc-4b68-8c25-77006239ceab",
   "metadata": {},
   "outputs": [
    {
     "name": "stdout",
     "output_type": "stream",
     "text": [
      "Traininig Loss: 2.1710281372070312\n"
     ]
    }
   ],
   "source": [
    "train_model(n=40000, batch_size=64)\n"
   ]
  },
  {
   "cell_type": "code",
   "execution_count": 63,
   "id": "2ce5b553-1f46-4bf7-beb0-6fa0d1714fa0",
   "metadata": {},
   "outputs": [
    {
     "name": "stdout",
     "output_type": "stream",
     "text": [
      "Traininig Loss: 2.005899429321289\n"
     ]
    }
   ],
   "source": [
    "train_model(n=40000, lr=0.001, batch_size=64)"
   ]
  },
  {
   "cell_type": "code",
   "execution_count": 64,
   "id": "020363a0-a223-4789-bd48-5cc4d848a479",
   "metadata": {},
   "outputs": [
    {
     "name": "stdout",
     "output_type": "stream",
     "text": [
      "Traininig Loss: 2.004669666290283\n"
     ]
    }
   ],
   "source": [
    "train_model(n=40000, lr=0.0001, batch_size=64)"
   ]
  },
  {
   "cell_type": "code",
   "execution_count": 65,
   "id": "e7391461-04ec-4a6a-8c8b-9508834001b0",
   "metadata": {},
   "outputs": [
    {
     "data": {
      "text/plain": [
       "tensor(2.0900, grad_fn=<NllLossBackward0>)"
      ]
     },
     "execution_count": 65,
     "metadata": {},
     "output_type": "execute_result"
    }
   ],
   "source": [
    "dev_loss()"
   ]
  },
  {
   "cell_type": "code",
   "execution_count": 66,
   "id": "b610df3e-3d03-4e0d-b989-df961f135030",
   "metadata": {},
   "outputs": [
    {
     "data": {
      "text/plain": [
       "tensor(2.0869, grad_fn=<NllLossBackward0>)"
      ]
     },
     "execution_count": 66,
     "metadata": {},
     "output_type": "execute_result"
    }
   ],
   "source": [
    "test_loss()"
   ]
  },
  {
   "cell_type": "markdown",
   "id": "04963616-31c6-4b27-b7c9-019cf18935c9",
   "metadata": {},
   "source": [
    "# Sampling from Model. Inference"
   ]
  },
  {
   "cell_type": "code",
   "execution_count": 67,
   "id": "5150c179-fb69-41b7-88fe-eb5e42aafab3",
   "metadata": {},
   "outputs": [
    {
     "name": "stdout",
     "output_type": "stream",
     "text": [
      "mayosem.\n",
      "castat.\n",
      "tacob.\n",
      "oxlia.\n",
      "kendy.\n",
      "elz.\n",
      "sha.\n",
      "keit.\n",
      "mad.\n",
      "garrica.\n",
      "abdulya.\n",
      "ameer.\n",
      "arley.\n",
      "kate.\n",
      "alileen.\n",
      "syenic.\n",
      "abelle.\n",
      "ferlee.\n",
      "eleigh.\n",
      "timi.\n"
     ]
    }
   ],
   "source": [
    "# g = torch.Generator().manual_seed(2147483647)\n",
    "\n",
    "for _ in range(20):\n",
    "    \n",
    "    out = []\n",
    "    context = [0] * block_size\n",
    "    while True:\n",
    "        emb = C[torch.tensor(context)]\n",
    "\n",
    "        h = torch.tanh(emb.view(1, -1)@W1+b1)\n",
    "\n",
    "        logits = h @ W2 + b2\n",
    "\n",
    "        probs = F.softmax(logits, dim=1)\n",
    "\n",
    "        ix = torch.multinomial(probs, num_samples=1, generator=None).item()\n",
    "\n",
    "        context = context[1:]+[ix]\n",
    "\n",
    "        out.append(ix)\n",
    "        if ix==0:\n",
    "            break\n",
    "    print(''.join(itos[i] for i in out))\n",
    "        "
   ]
  },
  {
   "cell_type": "code",
   "execution_count": 71,
   "id": "d3f3088a-a810-47b7-bdd1-b175fe7f521b",
   "metadata": {},
   "outputs": [
    {
     "data": {
      "text/plain": [
       "torch.Size([1, 27])"
      ]
     },
     "execution_count": 71,
     "metadata": {},
     "output_type": "execute_result"
    }
   ],
   "source": [
    "logits.shape"
   ]
  },
  {
   "cell_type": "code",
   "execution_count": null,
   "id": "063040c7-a781-4535-8160-96fe64783315",
   "metadata": {},
   "outputs": [],
   "source": []
  }
 ],
 "metadata": {
  "kernelspec": {
   "display_name": "Python 3 (ipykernel)",
   "language": "python",
   "name": "python3"
  },
  "language_info": {
   "codemirror_mode": {
    "name": "ipython",
    "version": 3
   },
   "file_extension": ".py",
   "mimetype": "text/x-python",
   "name": "python",
   "nbconvert_exporter": "python",
   "pygments_lexer": "ipython3",
   "version": "3.10.4"
  }
 },
 "nbformat": 4,
 "nbformat_minor": 5
}
