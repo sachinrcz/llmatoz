{
 "cells": [
  {
   "cell_type": "code",
   "execution_count": 1,
   "id": "a841e0b4-f174-4bed-a78f-f4690d881ff6",
   "metadata": {},
   "outputs": [],
   "source": [
    "import torch\n",
    "import torch.nn.functional as F\n",
    "import matplotlib.pyplot as plt\n",
    "%matplotlib inline"
   ]
  },
  {
   "cell_type": "code",
   "execution_count": 2,
   "id": "f5447cce-c69a-42dc-b98a-7b276cd3526a",
   "metadata": {},
   "outputs": [
    {
     "data": {
      "text/plain": [
       "['emma', 'olivia', 'ava', 'isabella', 'sophia', 'charlotte', 'mia', 'amelia']"
      ]
     },
     "execution_count": 2,
     "metadata": {},
     "output_type": "execute_result"
    }
   ],
   "source": [
    "words = open('names.txt', 'r').read().splitlines()\n",
    "words[:8]"
   ]
  },
  {
   "cell_type": "code",
   "execution_count": 3,
   "id": "b017d0e2-d559-4d35-b2f2-a2b17833b9d6",
   "metadata": {},
   "outputs": [
    {
     "data": {
      "text/plain": [
       "32033"
      ]
     },
     "execution_count": 3,
     "metadata": {},
     "output_type": "execute_result"
    }
   ],
   "source": [
    "len(words)"
   ]
  },
  {
   "cell_type": "code",
   "execution_count": 4,
   "id": "f28b3b84-3247-4275-b720-8f36a911b144",
   "metadata": {},
   "outputs": [
    {
     "name": "stdout",
     "output_type": "stream",
     "text": [
      "{1: 'a', 2: 'b', 3: 'c', 4: 'd', 5: 'e', 6: 'f', 7: 'g', 8: 'h', 9: 'i', 10: 'j', 11: 'k', 12: 'l', 13: 'm', 14: 'n', 15: 'o', 16: 'p', 17: 'q', 18: 'r', 19: 's', 20: 't', 21: 'u', 22: 'v', 23: 'w', 24: 'x', 25: 'y', 26: 'z', 0: '.'}\n"
     ]
    }
   ],
   "source": [
    "# build the vocabulary of characters and mapping to/from integers\n",
    "chars = sorted(list(set(''.join(words))))\n",
    "stoi = {s: i+1 for i,s in enumerate(chars)}\n",
    "stoi['.']=0\n",
    "itos = {i:s for s,i in stoi.items()}\n",
    "print(itos)"
   ]
  },
  {
   "cell_type": "code",
   "execution_count": 5,
   "id": "65cb0a4f-e2c8-4f38-9087-424c16ba3ff3",
   "metadata": {},
   "outputs": [
    {
     "name": "stdout",
     "output_type": "stream",
     "text": [
      "emma\n",
      "... -----> e\n",
      "..e -----> m\n",
      ".em -----> m\n",
      "emm -----> a\n",
      "mma -----> .\n",
      "olivia\n",
      "... -----> o\n",
      "..o -----> l\n",
      ".ol -----> i\n",
      "oli -----> v\n",
      "liv -----> i\n",
      "ivi -----> a\n",
      "via -----> .\n",
      "ava\n",
      "... -----> a\n",
      "..a -----> v\n",
      ".av -----> a\n",
      "ava -----> .\n",
      "isabella\n",
      "... -----> i\n",
      "..i -----> s\n",
      ".is -----> a\n",
      "isa -----> b\n",
      "sab -----> e\n",
      "abe -----> l\n",
      "bel -----> l\n",
      "ell -----> a\n",
      "lla -----> .\n",
      "sophia\n",
      "... -----> s\n",
      "..s -----> o\n",
      ".so -----> p\n",
      "sop -----> h\n",
      "oph -----> i\n",
      "phi -----> a\n",
      "hia -----> .\n"
     ]
    }
   ],
   "source": [
    "# build the dataset\n",
    "\n",
    "block_size = 3 # context length: how many characters do we take to predict the next one?\n",
    "X, Y = [], []\n",
    "word_subset = 5 # number of words to use as subset for ease\n",
    "\n",
    "for w in words[:word_subset]:\n",
    "    print(w)\n",
    "    context = [0]*block_size\n",
    "    # print(context)\n",
    "    for ch in w+'.':\n",
    "        ix=stoi[ch]\n",
    "        X.append(context)\n",
    "        Y.append(ix)\n",
    "        print(''.join(itos[i] for i in context), '----->', itos[ix])\n",
    "        # print(context, '--->', ix)\n",
    "        context = context[1:] + [ix]\n",
    "        \n",
    "X = torch.tensor(X)\n",
    "Y = torch.tensor(Y)\n",
    "# print(X)\n",
    "# print(Y)\n",
    "\n"
   ]
  },
  {
   "cell_type": "code",
   "execution_count": 6,
   "id": "8d1b50a0-0d0d-4085-84c7-b2588dc9ec4e",
   "metadata": {},
   "outputs": [
    {
     "data": {
      "text/plain": [
       "(torch.Size([32, 3]), torch.int64, torch.Size([32]), torch.int64)"
      ]
     },
     "execution_count": 6,
     "metadata": {},
     "output_type": "execute_result"
    }
   ],
   "source": [
    "X.shape, X.dtype, Y.shape, Y.dtype"
   ]
  },
  {
   "cell_type": "code",
   "execution_count": 7,
   "id": "6d042fe1-4842-4dc5-9a46-03a1fdf895b3",
   "metadata": {},
   "outputs": [],
   "source": [
    "embedding_dimension = 2\n",
    "C = torch.randn((27, embedding_dimension))"
   ]
  },
  {
   "cell_type": "code",
   "execution_count": 8,
   "id": "916f21a9-1b7a-4def-a6fd-c08b04857a12",
   "metadata": {},
   "outputs": [
    {
     "data": {
      "text/plain": [
       "torch.Size([32, 3, 2])"
      ]
     },
     "execution_count": 8,
     "metadata": {},
     "output_type": "execute_result"
    }
   ],
   "source": [
    "emb = C[X]\n",
    "emb.shape"
   ]
  },
  {
   "cell_type": "code",
   "execution_count": 9,
   "id": "996ddb72-4ee6-47ba-a2ac-dacea6621116",
   "metadata": {},
   "outputs": [],
   "source": [
    "W1 = torch.rand((6, 100))\n",
    "b1 = torch.rand(100)"
   ]
  },
  {
   "cell_type": "code",
   "execution_count": 10,
   "id": "744b316b-51a2-467d-a144-be6640de1e49",
   "metadata": {},
   "outputs": [],
   "source": [
    "h = torch.tanh(emb.view(-1,6) @ W1 + b1)"
   ]
  },
  {
   "cell_type": "code",
   "execution_count": 11,
   "id": "13f47398-38cb-441f-950d-cd0fcdde21ee",
   "metadata": {},
   "outputs": [
    {
     "data": {
      "text/plain": [
       "torch.Size([32, 100])"
      ]
     },
     "execution_count": 11,
     "metadata": {},
     "output_type": "execute_result"
    }
   ],
   "source": [
    "h.shape"
   ]
  },
  {
   "cell_type": "code",
   "execution_count": 12,
   "id": "e700f9be-307c-447e-8997-408c593f9116",
   "metadata": {},
   "outputs": [
    {
     "data": {
      "text/plain": [
       "tensor([[ 0.9097,  0.8623,  0.8844,  ...,  0.7231,  0.8687,  0.6856],\n",
       "        [ 0.4161,  0.0192, -0.4967,  ...,  0.8055,  0.5773, -0.4538],\n",
       "        [-0.3747,  0.6074,  0.0551,  ...,  0.3062, -0.7884,  0.2767],\n",
       "        ...,\n",
       "        [ 0.9786,  0.9991,  0.9989,  ...,  0.9947,  0.9818,  0.9147],\n",
       "        [ 0.9992,  0.9932,  0.9842,  ...,  0.9537,  0.9983,  0.5296],\n",
       "        [ 0.2267, -0.7468, -0.7764,  ..., -0.6215,  0.1358, -0.3052]])"
      ]
     },
     "execution_count": 12,
     "metadata": {},
     "output_type": "execute_result"
    }
   ],
   "source": [
    "h"
   ]
  },
  {
   "cell_type": "code",
   "execution_count": 13,
   "id": "ac347896-3b67-4a55-a497-4ed3247e8026",
   "metadata": {},
   "outputs": [],
   "source": [
    "W2 = torch.rand(100, 27)\n",
    "b2 = torch.rand(27)"
   ]
  },
  {
   "cell_type": "code",
   "execution_count": 22,
   "id": "70b69081-7bdb-44ae-905c-aeb92c9630c4",
   "metadata": {},
   "outputs": [],
   "source": [
    "logits = h @ W2 + b2"
   ]
  },
  {
   "cell_type": "code",
   "execution_count": 23,
   "id": "25fcbcb0-f441-40e9-8e99-0ac607eacce9",
   "metadata": {},
   "outputs": [
    {
     "data": {
      "text/plain": [
       "torch.Size([32, 27])"
      ]
     },
     "execution_count": 23,
     "metadata": {},
     "output_type": "execute_result"
    }
   ],
   "source": [
    "logits.shape"
   ]
  },
  {
   "cell_type": "code",
   "execution_count": 24,
   "id": "71d3f3fb-741c-4a41-a65e-74a860baf6dd",
   "metadata": {},
   "outputs": [],
   "source": [
    "counts = logits.exp()"
   ]
  },
  {
   "cell_type": "code",
   "execution_count": 25,
   "id": "be5f5732-f605-4837-998e-60ca1c8f441d",
   "metadata": {},
   "outputs": [],
   "source": [
    "probs = counts/counts.sum(1, keepdims=True)"
   ]
  },
  {
   "cell_type": "code",
   "execution_count": 19,
   "id": "20e6ab39-b3b4-4bf4-bb9f-63bb88459a04",
   "metadata": {},
   "outputs": [
    {
     "data": {
      "text/plain": [
       "torch.Size([32, 27])"
      ]
     },
     "execution_count": 19,
     "metadata": {},
     "output_type": "execute_result"
    }
   ],
   "source": [
    "probs.shape"
   ]
  },
  {
   "cell_type": "code",
   "execution_count": 26,
   "id": "3e89676e-67f4-4d43-899f-2a5a7c7b6b4f",
   "metadata": {},
   "outputs": [
    {
     "data": {
      "text/plain": [
       "tensor(1.)"
      ]
     },
     "execution_count": 26,
     "metadata": {},
     "output_type": "execute_result"
    }
   ],
   "source": [
    "probs[0].sum()"
   ]
  },
  {
   "cell_type": "code",
   "execution_count": 27,
   "id": "2df6e515-d6ab-4dcc-8721-cce396abf49d",
   "metadata": {},
   "outputs": [
    {
     "data": {
      "text/plain": [
       "tensor([ 5, 13, 13,  1,  0, 15, 12,  9, 22,  9,  1,  0,  1, 22,  1,  0,  9, 19,\n",
       "         1,  2,  5, 12, 12,  1,  0, 19, 15, 16,  8,  9,  1,  0])"
      ]
     },
     "execution_count": 27,
     "metadata": {},
     "output_type": "execute_result"
    }
   ],
   "source": [
    "Y"
   ]
  },
  {
   "cell_type": "code",
   "execution_count": 30,
   "id": "4e15ad4c-7bd9-479e-b740-bfd507767c92",
   "metadata": {},
   "outputs": [
    {
     "data": {
      "text/plain": [
       "tensor(3.4445e-06)"
      ]
     },
     "execution_count": 30,
     "metadata": {},
     "output_type": "execute_result"
    }
   ],
   "source": [
    "probs[0][5]"
   ]
  },
  {
   "cell_type": "code",
   "execution_count": 31,
   "id": "42b86b2b-142f-4b85-a32d-0584a7729aa6",
   "metadata": {},
   "outputs": [
    {
     "data": {
      "text/plain": [
       "tensor([ 0,  1,  2,  3,  4,  5,  6,  7,  8,  9, 10, 11, 12, 13, 14, 15, 16, 17,\n",
       "        18, 19, 20, 21, 22, 23, 24, 25, 26, 27, 28, 29, 30, 31])"
      ]
     },
     "execution_count": 31,
     "metadata": {},
     "output_type": "execute_result"
    }
   ],
   "source": [
    "torch.arange(32)"
   ]
  },
  {
   "cell_type": "code",
   "execution_count": 34,
   "id": "228d171a-b700-4b52-b549-dee84ae46b14",
   "metadata": {},
   "outputs": [],
   "source": [
    "result = probs[torch.arange(32), Y]"
   ]
  },
  {
   "cell_type": "code",
   "execution_count": 35,
   "id": "a0c73b7a-0fb0-4499-93df-c0ed9b2899a4",
   "metadata": {},
   "outputs": [],
   "source": [
    "loss = - result.log().mean()"
   ]
  },
  {
   "cell_type": "code",
   "execution_count": 36,
   "id": "097e2f17-b464-4e06-b162-2336f09e18bc",
   "metadata": {},
   "outputs": [
    {
     "data": {
      "text/plain": [
       "tensor(5.4488)"
      ]
     },
     "execution_count": 36,
     "metadata": {},
     "output_type": "execute_result"
    }
   ],
   "source": [
    "loss"
   ]
  },
  {
   "cell_type": "markdown",
   "id": "56ac09f3-a7ed-409a-bb14-d68603204b4e",
   "metadata": {},
   "source": [
    "### Summarized Forward Pass"
   ]
  },
  {
   "cell_type": "code",
   "execution_count": 43,
   "id": "2168d8c4-0f61-466c-ab9e-3927701dcb4a",
   "metadata": {},
   "outputs": [],
   "source": [
    "# build the dataset\n",
    "def build_dataset(block_size, word_subset, verbose=False):\n",
    "    X, Y = [], []\n",
    "\n",
    "    for w in words[:word_subset]:\n",
    "        if verbose:\n",
    "            print(w)\n",
    "        context = [0]*block_size\n",
    "        # print(context)\n",
    "        for ch in w+'.':\n",
    "            ix=stoi[ch]\n",
    "            X.append(context)\n",
    "            Y.append(ix)\n",
    "            if verbose:\n",
    "                print(''.join(itos[i] for i in context), '----->', itos[ix])\n",
    "            # print(context, '--->', ix)\n",
    "            context = context[1:] + [ix]\n",
    "\n",
    "    X = torch.tensor(X)\n",
    "    Y = torch.tensor(Y)\n",
    "    return X, Y"
   ]
  },
  {
   "cell_type": "code",
   "execution_count": 48,
   "id": "2df9c8c7-3932-4592-bada-4e2f3c5c0e5e",
   "metadata": {},
   "outputs": [
    {
     "data": {
      "text/plain": [
       "(torch.Size([32, 3]), torch.Size([32]))"
      ]
     },
     "execution_count": 48,
     "metadata": {},
     "output_type": "execute_result"
    }
   ],
   "source": []
  },
  {
   "cell_type": "code",
   "execution_count": 52,
   "id": "2ff919a9-6307-47db-9718-a4d1ba2257da",
   "metadata": {},
   "outputs": [
    {
     "name": "stdout",
     "output_type": "stream",
     "text": [
      "Input Shape torch.Size([32, 3]) torch.Size([32])\n"
     ]
    }
   ],
   "source": [
    "embedding_dimension = 2\n",
    "neuron_second_layer = 100\n",
    "block_size = 3\n",
    "word_subset = 5\n",
    "X, Y = build_dataset(block_size=block_size, word_subset=word_subset)\n",
    "print(\"Input Shape -->\", X.shape, Y.shape)\n",
    "g = torch.Generator().manual_seed(2147483647)\n",
    "C = torch.randn((27, embedding_dimension))\n",
    "emb = C[X]\n",
    "input_dim = embedding_dimension * block_size\n",
    "W1 = torch.rand((input_dim, neuron_second_layer))\n",
    "b1 = torch.rand(neuron_second_layer)\n",
    "h = torch.tanh(emb.view(-1, input_dim) @ W1 + b1)\n"
   ]
  },
  {
   "cell_type": "code",
   "execution_count": 50,
   "id": "dd3d9d65-087e-4c94-8b8a-866933a64fc8",
   "metadata": {},
   "outputs": [
    {
     "data": {
      "text/plain": [
       "torch.Size([32, 100])"
      ]
     },
     "execution_count": 50,
     "metadata": {},
     "output_type": "execute_result"
    }
   ],
   "source": [
    "h.shape"
   ]
  },
  {
   "cell_type": "code",
   "execution_count": null,
   "id": "408af014-6157-45a1-a0bb-d1fe168a358f",
   "metadata": {},
   "outputs": [],
   "source": []
  }
 ],
 "metadata": {
  "kernelspec": {
   "display_name": "Python 3 (ipykernel)",
   "language": "python",
   "name": "python3"
  },
  "language_info": {
   "codemirror_mode": {
    "name": "ipython",
    "version": 3
   },
   "file_extension": ".py",
   "mimetype": "text/x-python",
   "name": "python",
   "nbconvert_exporter": "python",
   "pygments_lexer": "ipython3",
   "version": "3.10.4"
  }
 },
 "nbformat": 4,
 "nbformat_minor": 5
}
