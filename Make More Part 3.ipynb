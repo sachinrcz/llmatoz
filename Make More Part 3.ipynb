{
 "cells": [
  {
   "cell_type": "code",
   "execution_count": 1,
   "id": "1a15aeb8-2685-4af1-bd21-ea4a970b1917",
   "metadata": {},
   "outputs": [],
   "source": [
    "import torch\n",
    "import torch.nn.functional as F\n",
    "import matplotlib.pyplot as plt # for making figures\n",
    "%matplotlib inline\n"
   ]
  },
  {
   "cell_type": "code",
   "execution_count": 2,
   "id": "6e52103e-1feb-404c-bfca-0c5cb352770b",
   "metadata": {},
   "outputs": [
    {
     "data": {
      "text/plain": [
       "['emma', 'olivia', 'ava', 'isabella', 'sophia', 'charlotte', 'mia', 'amelia']"
      ]
     },
     "execution_count": 2,
     "metadata": {},
     "output_type": "execute_result"
    }
   ],
   "source": [
    "# read in all the words\n",
    "words = open('names.txt', 'r').read().splitlines()\n",
    "words[:8]"
   ]
  },
  {
   "cell_type": "code",
   "execution_count": 3,
   "id": "ec520d31-6bda-4a5a-877e-182b243a7d90",
   "metadata": {},
   "outputs": [
    {
     "data": {
      "text/plain": [
       "32033"
      ]
     },
     "execution_count": 3,
     "metadata": {},
     "output_type": "execute_result"
    }
   ],
   "source": [
    "len(words)"
   ]
  },
  {
   "cell_type": "code",
   "execution_count": 4,
   "id": "72589083-b000-43cd-a9b1-afcf9df8356f",
   "metadata": {},
   "outputs": [
    {
     "name": "stdout",
     "output_type": "stream",
     "text": [
      "stoi: {'a': 1, 'b': 2, 'c': 3, 'd': 4, 'e': 5, 'f': 6, 'g': 7, 'h': 8, 'i': 9, 'j': 10, 'k': 11, 'l': 12, 'm': 13, 'n': 14, 'o': 15, 'p': 16, 'q': 17, 'r': 18, 's': 19, 't': 20, 'u': 21, 'v': 22, 'w': 23, 'x': 24, 'y': 25, 'z': 26}\n",
      "itos: {1: 'a', 2: 'b', 3: 'c', 4: 'd', 5: 'e', 6: 'f', 7: 'g', 8: 'h', 9: 'i', 10: 'j', 11: 'k', 12: 'l', 13: 'm', 14: 'n', 15: 'o', 16: 'p', 17: 'q', 18: 'r', 19: 's', 20: 't', 21: 'u', 22: 'v', 23: 'w', 24: 'x', 25: 'y', 26: 'z', 0: '.'}\n",
      "Size: 27\n"
     ]
    }
   ],
   "source": [
    "# build the vocabulary of characters and mappings to/from integers\n",
    "chars = sorted(list(set(''.join(words))))\n",
    "stoi = {s:i+1 for i,s in enumerate(chars)}\n",
    "print(f'stoi: {stoi}')\n",
    "stoi['.'] = 0\n",
    "itos = {i:s for s,i in stoi.items()}\n",
    "vocab_size = len(itos)\n",
    "print(f'itos: {itos}')\n",
    "print(f'Size: {vocab_size}')"
   ]
  },
  {
   "cell_type": "code",
   "execution_count": 5,
   "id": "09df87c8-ae32-4847-8c58-c20068e55bd4",
   "metadata": {},
   "outputs": [
    {
     "name": "stdout",
     "output_type": "stream",
     "text": [
      "torch.Size([182625, 3]) torch.Size([182625])\n",
      "torch.Size([22655, 3]) torch.Size([22655])\n",
      "torch.Size([22866, 3]) torch.Size([22866])\n"
     ]
    }
   ],
   "source": [
    "# build the dataset\n",
    "block_size = 3 # context length: how many characters do we take to predict the next one?\n",
    "\n",
    "def build_dataset(words):  \n",
    "  X, Y = [], []\n",
    "  for w in words:\n",
    "\n",
    "    #print(w)\n",
    "    context = [0] * block_size\n",
    "    for ch in w + '.':\n",
    "      ix = stoi[ch]\n",
    "      X.append(context)\n",
    "      Y.append(ix)\n",
    "      #print(''.join(itos[i] for i in context), '--->', itos[ix])\n",
    "      context = context[1:] + [ix] # crop and append\n",
    "\n",
    "  X = torch.tensor(X)\n",
    "  Y = torch.tensor(Y)\n",
    "  print(X.shape, Y.shape)\n",
    "  return X, Y\n",
    "\n",
    "import random\n",
    "random.seed(42)\n",
    "random.shuffle(words)\n",
    "n1 = int(0.8*len(words))\n",
    "n2 = int(0.9*len(words))\n",
    "\n",
    "Xtr, Ytr = build_dataset(words[:n1])\n",
    "Xdev, Ydev = build_dataset(words[n1:n2])\n",
    "Xte, Yte = build_dataset(words[n2:])"
   ]
  },
  {
   "cell_type": "code",
   "execution_count": 6,
   "id": "2756e422-b580-47cc-853a-f460119fe144",
   "metadata": {},
   "outputs": [
    {
     "name": "stdout",
     "output_type": "stream",
     "text": [
      "11897\n"
     ]
    }
   ],
   "source": [
    "# MLP revisited\n",
    "n_embd = 10 # the dimensionality of the character embedding vectors\n",
    "n_hidden = 200 # the number of neurons in the hidden layer of the MLP\n",
    "\n",
    "g = torch.Generator().manual_seed(2147483647) # for reproducibility\n",
    "C  = torch.randn((vocab_size, n_embd),            generator=g)\n",
    "W1 = torch.randn((n_embd * block_size, n_hidden), generator=g) \n",
    "b1 = torch.randn(n_hidden,                        generator=g) \n",
    "W2 = torch.randn((n_hidden, vocab_size),          generator=g) \n",
    "b2 = torch.randn(vocab_size,                      generator=g) \n",
    "\n",
    "parameters = [C, W1, b1, W2, b2]\n",
    "print(sum(p.nelement() for p in parameters)) # number of parameters in total\n",
    "for p in parameters:\n",
    "  p.requires_grad = True"
   ]
  },
  {
   "cell_type": "code",
   "execution_count": 7,
   "id": "ea34f46f-60a3-454c-952a-4ddc7421db8d",
   "metadata": {},
   "outputs": [
    {
     "name": "stdout",
     "output_type": "stream",
     "text": [
      "      0/ 200000: 27.881727\n",
      "  10000/ 200000: 2.805013\n",
      "  20000/ 200000: 2.551838\n",
      "  30000/ 200000: 2.803529\n",
      "  40000/ 200000: 2.047602\n",
      "  50000/ 200000: 2.703313\n",
      "  60000/ 200000: 2.317933\n",
      "  70000/ 200000: 2.096592\n",
      "  80000/ 200000: 2.334373\n",
      "  90000/ 200000: 2.215454\n",
      " 100000/ 200000: 2.071170\n",
      " 110000/ 200000: 2.408605\n",
      " 120000/ 200000: 1.866091\n",
      " 130000/ 200000: 2.310305\n",
      " 140000/ 200000: 2.234986\n",
      " 150000/ 200000: 2.174228\n",
      " 160000/ 200000: 2.118977\n",
      " 170000/ 200000: 1.757867\n",
      " 180000/ 200000: 2.018282\n",
      " 190000/ 200000: 1.818594\n"
     ]
    }
   ],
   "source": [
    "max_steps = 200000\n",
    "batch_size = 32\n",
    "lossi = []\n",
    "\n",
    "for i in range(max_steps):\n",
    "    \n",
    "    #minibatch construct\n",
    "    ix = torch.randint(0, Xtr.shape[0], (batch_size, ), generator=g)\n",
    "    Xb, Yb = Xtr[ix], Ytr[ix]\n",
    "\n",
    "    #forward pass\n",
    "    emb = C[Xb]\n",
    "    embcat = emb.view(Xb.shape[0], -1)\n",
    "    hpreact = embcat@W1 + b1\n",
    "    h = torch.tanh(hpreact)\n",
    "    logits = h @ W2 + b2\n",
    "    loss = F.cross_entropy(logits, Yb)\n",
    "\n",
    "    #backward pass\n",
    "    for p in parameters:\n",
    "        p.grad = None\n",
    "    loss.backward()\n",
    "\n",
    "    #update\n",
    "    lr = 0.1 if i<100000 else 0.01\n",
    "    for p in parameters:\n",
    "        p.data += -lr * p.grad\n",
    "\n",
    "\n",
    "    # track stats\n",
    "    if i % 10000 == 0:\n",
    "        print(f\"{i:7d}/{max_steps:7d}: {loss.item():4f}\")\n",
    "    lossi.append(loss.log10().item())"
   ]
  },
  {
   "cell_type": "code",
   "execution_count": 8,
   "id": "53df718e-5a1a-4a0f-9419-e709e53c607e",
   "metadata": {},
   "outputs": [
    {
     "data": {
      "text/plain": [
       "[<matplotlib.lines.Line2D at 0x113b82d10>]"
      ]
     },
     "execution_count": 8,
     "metadata": {},
     "output_type": "execute_result"
    },
    {
     "data": {
      "image/png": "[encoded data removed]",
      "text/plain": [
       "<Figure size 640x480 with 1 Axes>"
      ]
     },
     "metadata": {},
     "output_type": "display_data"
    }
   ],
   "source": [
    "plt.plot(lossi)"
   ]
  },
  {
   "cell_type": "code",
   "execution_count": 9,
   "id": "03ebbff0-5799-4a7b-95ec-d79cdf76d271",
   "metadata": {},
   "outputs": [],
   "source": [
    "@torch.no_grad()\n",
    "def split_loss(split):\n",
    "    x, y = {\n",
    "        'train': (Xtr, Ytr),\n",
    "        'test': (Xte, Yte),\n",
    "        'val': (Xdev, Ydev),\n",
    "    }[split]\n",
    "    emb = C[x]\n",
    "    embcat = emb.view(emb.shape[0], -1)\n",
    "    h = torch.tanh(embcat@W1 + b1)\n",
    "    logits = h @ W2 + b2\n",
    "    loss = F.cross_entropy(logits, y)\n",
    "    print(split, loss.item())"
   ]
  },
  {
   "cell_type": "code",
   "execution_count": 10,
   "id": "45d4569c-5db6-4aa3-b545-107804d8c318",
   "metadata": {},
   "outputs": [
    {
     "name": "stdout",
     "output_type": "stream",
     "text": [
      "train 2.1256532669067383\n",
      "val 2.1684703826904297\n"
     ]
    }
   ],
   "source": [
    "# split_loss('test')\n",
    "split_loss('train')\n",
    "split_loss('val')"
   ]
  },
  {
   "cell_type": "markdown",
   "id": "6dde139a-e8e0-4003-baf6-b3aa36c609be",
   "metadata": {},
   "source": [
    "## Issue #1  Initial Loss is much higher than assigning equal probability to each letter."
   ]
  },
  {
   "cell_type": "code",
   "execution_count": 11,
   "id": "054a2aa8-895e-431a-a132-305aa8f1ca8d",
   "metadata": {},
   "outputs": [
    {
     "data": {
      "text/plain": [
       "(tensor([-17.6151,  70.5347, 113.6380,   2.7914]),\n",
       " tensor([0.0000e+00, 1.9075e-19, 1.0000e+00, 0.0000e+00]),\n",
       " tensor(-0.))"
      ]
     },
     "execution_count": 11,
     "metadata": {},
     "output_type": "execute_result"
    }
   ],
   "source": [
    "# logits = torch.tensor([0.25, 0.25, 0.25, 0.25])\n",
    "logits = torch.randn(4) * 100 # more if 10x or 100x\n",
    "probs = torch.softmax(logits, dim=0)\n",
    "loss = -probs[2].log()\n",
    "logits, probs, loss"
   ]
  },
  {
   "cell_type": "markdown",
   "id": "d02a91c6-b444-4b47-8b87-1fc1df090017",
   "metadata": {},
   "source": [
    "### Make b2 0 at initialization and W2 smaller to get lower logits in first iteration. So logits don't take extreme values in first iteration"
   ]
  },
  {
   "cell_type": "code",
   "execution_count": 12,
   "id": "d72bc8a0-3967-49a3-a256-02bf7c0177c3",
   "metadata": {},
   "outputs": [
    {
     "name": "stdout",
     "output_type": "stream",
     "text": [
      "11897\n"
     ]
    }
   ],
   "source": [
    "# MLP revisited\n",
    "n_embd = 10 # the dimensionality of the character embedding vectors\n",
    "n_hidden = 200 # the number of neurons in the hidden layer of the MLP\n",
    "\n",
    "g = torch.Generator().manual_seed(2147483647) # for reproducibility\n",
    "C  = torch.randn((vocab_size, n_embd),            generator=g)\n",
    "W1 = torch.randn((n_embd * block_size, n_hidden), generator=g) \n",
    "b1 = torch.randn(n_hidden,                        generator=g) \n",
    "W2 = torch.randn((n_hidden, vocab_size),          generator=g) * 0.01\n",
    "b2 = torch.randn(vocab_size,                      generator=g) * 0 \n",
    "\n",
    "parameters = [C, W1, b1, W2, b2]\n",
    "print(sum(p.nelement() for p in parameters)) # number of parameters in total\n",
    "for p in parameters:\n",
    "  p.requires_grad = True"
   ]
  },
  {
   "cell_type": "code",
   "execution_count": 13,
   "id": "85dd0a2f-ac9f-4f76-97d1-d00d918c4428",
   "metadata": {},
   "outputs": [
    {
     "name": "stdout",
     "output_type": "stream",
     "text": [
      "      0/ 200000: 3.322059\n",
      "  10000/ 200000: 2.189968\n",
      "  20000/ 200000: 2.419572\n",
      "  30000/ 200000: 2.606707\n",
      "  40000/ 200000: 2.060104\n",
      "  50000/ 200000: 2.498806\n",
      "  60000/ 200000: 2.390249\n",
      "  70000/ 200000: 2.134383\n",
      "  80000/ 200000: 2.336876\n",
      "  90000/ 200000: 2.129889\n",
      " 100000/ 200000: 1.832913\n",
      " 110000/ 200000: 2.205288\n",
      " 120000/ 200000: 1.853989\n",
      " 130000/ 200000: 2.456578\n",
      " 140000/ 200000: 2.187871\n",
      " 150000/ 200000: 2.111785\n",
      " 160000/ 200000: 1.895567\n",
      " 170000/ 200000: 1.864450\n",
      " 180000/ 200000: 2.032571\n",
      " 190000/ 200000: 1.841691\n"
     ]
    }
   ],
   "source": [
    "max_steps = 200000\n",
    "batch_size = 32\n",
    "lossi = []\n",
    "\n",
    "for i in range(max_steps):\n",
    "    \n",
    "    #minibatch construct\n",
    "    ix = torch.randint(0, Xtr.shape[0], (batch_size, ), generator=g)\n",
    "    Xb, Yb = Xtr[ix], Ytr[ix]\n",
    "\n",
    "    #forward pass\n",
    "    emb = C[Xb]\n",
    "    embcat = emb.view(Xb.shape[0], -1)\n",
    "    hpreact = embcat@W1 + b1\n",
    "    h = torch.tanh(hpreact)\n",
    "    logits = h @ W2 + b2\n",
    "    loss = F.cross_entropy(logits, Yb)\n",
    "\n",
    "    #backward pass\n",
    "    for p in parameters:\n",
    "        p.grad = None\n",
    "    loss.backward()\n",
    "\n",
    "    #update\n",
    "    lr = 0.1 if i<100000 else 0.01\n",
    "    for p in parameters:\n",
    "        p.data += -lr * p.grad\n",
    "\n",
    "\n",
    "    # track stats\n",
    "    if i % 10000 == 0:\n",
    "        print(f\"{i:7d}/{max_steps:7d}: {loss.item():4f}\")\n",
    "    lossi.append(loss.log10().item())\n",
    "    "
   ]
  },
  {
   "cell_type": "code",
   "execution_count": 14,
   "id": "1f4fbdcc-6524-4da6-bce1-b7c328701e17",
   "metadata": {},
   "outputs": [
    {
     "data": {
      "text/plain": [
       "tensor([-1.0116,  2.1188, -0.9094, -1.7597, -0.6279,  2.2488, -1.7702, -1.4846,\n",
       "        -0.5791,  2.8137, -1.0657, -1.6277,  2.5374,  1.6568,  3.6743,  1.5285,\n",
       "        -0.2121, -4.8728,  1.9167,  1.3215,  0.7041, -0.7861,  0.7667, -2.0711,\n",
       "        -4.5283,  2.6771,  0.0309], grad_fn=<SelectBackward0>)"
      ]
     },
     "execution_count": 14,
     "metadata": {},
     "output_type": "execute_result"
    }
   ],
   "source": [
    "logits[0]"
   ]
  },
  {
   "cell_type": "code",
   "execution_count": 15,
   "id": "2a9dad07-7ad2-410d-b60e-03019dcc15a3",
   "metadata": {},
   "outputs": [
    {
     "data": {
      "text/plain": [
       "[<matplotlib.lines.Line2D at 0x127a563e0>]"
      ]
     },
     "execution_count": 15,
     "metadata": {},
     "output_type": "execute_result"
    },
    {
     "data": {
      "image/png": "[encoded data removed]",
      "text/plain": [
       "<Figure size 640x480 with 1 Axes>"
      ]
     },
     "metadata": {},
     "output_type": "display_data"
    }
   ],
   "source": [
    "plt.plot(lossi)  # good news, no hockey shape"
   ]
  },
  {
   "cell_type": "code",
   "execution_count": 16,
   "id": "6de04417-76fb-4160-b111-cd065b00bc69",
   "metadata": {},
   "outputs": [
    {
     "name": "stdout",
     "output_type": "stream",
     "text": [
      "train 2.0695888996124268\n",
      "val 2.131074905395508\n"
     ]
    }
   ],
   "source": [
    "\n",
    "# split_loss('test')\n",
    "split_loss('train')\n",
    "split_loss('val')\n",
    "    "
   ]
  },
  {
   "cell_type": "markdown",
   "id": "d8abbfe5-91a0-40e9-a82c-5cc66d1f5b36",
   "metadata": {},
   "source": [
    "### Issue #2 Tanh is very active. Activation Layers take extreme values a lot of time"
   ]
  },
  {
   "cell_type": "code",
   "execution_count": 17,
   "id": "cad45934-64d8-46be-8dbb-102720da8d0a",
   "metadata": {},
   "outputs": [
    {
     "data": {
      "image/png": "[encoded data removed]",
      "text/plain": [
       "<Figure size 640x480 with 1 Axes>"
      ]
     },
     "metadata": {},
     "output_type": "display_data"
    }
   ],
   "source": [
    "plt.hist(h.view(-1).tolist(), 50);   # most of the values are closer to -1 or 1"
   ]
  },
  {
   "cell_type": "code",
   "execution_count": 18,
   "id": "3f63b698-2433-489c-b00c-7d8e37352dc5",
   "metadata": {},
   "outputs": [
    {
     "data": {
      "image/png": "[encoded data removed]",
      "text/plain": [
       "<Figure size 640x480 with 1 Axes>"
      ]
     },
     "metadata": {},
     "output_type": "display_data"
    }
   ],
   "source": [
    "plt.hist(hpreact.view(-1).tolist(), 50);"
   ]
  },
  {
   "cell_type": "code",
   "execution_count": 19,
   "id": "8f7afdae-0575-4eda-a396-562cfa82c571",
   "metadata": {},
   "outputs": [
    {
     "data": {
      "text/plain": [
       "<matplotlib.image.AxesImage at 0x127e0e650>"
      ]
     },
     "execution_count": 19,
     "metadata": {},
     "output_type": "execute_result"
    },
    {
     "data": {
      "image/png": "[encoded data removed]",
      "text/plain": [
       "<Figure size 2000x1000 with 1 Axes>"
      ]
     },
     "metadata": {},
     "output_type": "display_data"
    }
   ],
   "source": [
    "plt.figure(figsize=(20,10))\n",
    "plt.imshow(h.abs()> 0.99, cmap='gray', interpolation='nearest')\n",
    "\n",
    "# white- true, black-false, if there was a column with full white would mean dead neuron"
   ]
  },
  {
   "cell_type": "code",
   "execution_count": 20,
   "id": "74a126fe-b8e0-445e-b65c-e67102b034f2",
   "metadata": {},
   "outputs": [],
   "source": [
    "# same issue could also happen during gradient update,\n",
    "# if learning rate is not good, gradient update could give weights extreme values and tanh would knock them out and network would not learn, \n",
    "# kind of similar to brain damange  🧐"
   ]
  },
  {
   "cell_type": "code",
   "execution_count": 21,
   "id": "841194dc-0f33-403b-bda7-f1bbc30406df",
   "metadata": {},
   "outputs": [],
   "source": [
    "# solution would be reduce hpreact so make w1 and b1 smaller and closer to 0"
   ]
  },
  {
   "cell_type": "code",
   "execution_count": 22,
   "id": "d716bd34-fb11-47ac-95b2-68dc2e20ef7a",
   "metadata": {},
   "outputs": [
    {
     "name": "stdout",
     "output_type": "stream",
     "text": [
      "11897\n"
     ]
    }
   ],
   "source": [
    "# MLP revisited\n",
    "n_embd = 10 # the dimensionality of the character embedding vectors\n",
    "n_hidden = 200 # the number of neurons in the hidden layer of the MLP\n",
    "\n",
    "g = torch.Generator().manual_seed(2147483647) # for reproducibility\n",
    "C  = torch.randn((vocab_size, n_embd),            generator=g)\n",
    "W1 = torch.randn((n_embd * block_size, n_hidden), generator=g) * 0.2\n",
    "b1 = torch.randn(n_hidden,                        generator=g) * 0.01\n",
    "W2 = torch.randn((n_hidden, vocab_size),          generator=g) * 0.01\n",
    "b2 = torch.randn(vocab_size,                      generator=g) * 0 \n",
    "\n",
    "parameters = [C, W1, b1, W2, b2]\n",
    "print(sum(p.nelement() for p in parameters)) # number of parameters in total\n",
    "for p in parameters:\n",
    "  p.requires_grad = True"
   ]
  },
  {
   "cell_type": "code",
   "execution_count": 23,
   "id": "c77c64ad-6193-4463-9e57-443cc20853b1",
   "metadata": {},
   "outputs": [
    {
     "name": "stdout",
     "output_type": "stream",
     "text": [
      "      0/ 200000: 3.313459\n",
      "  10000/ 200000: 2.164827\n",
      "  20000/ 200000: 2.306087\n",
      "  30000/ 200000: 2.454139\n",
      "  40000/ 200000: 1.978676\n",
      "  50000/ 200000: 2.292973\n",
      "  60000/ 200000: 2.423234\n",
      "  70000/ 200000: 2.067997\n",
      "  80000/ 200000: 2.309542\n",
      "  90000/ 200000: 2.120710\n",
      " 100000/ 200000: 1.826862\n",
      " 110000/ 200000: 2.204487\n",
      " 120000/ 200000: 1.979659\n",
      " 130000/ 200000: 2.394568\n",
      " 140000/ 200000: 2.100044\n",
      " 150000/ 200000: 2.194798\n",
      " 160000/ 200000: 1.861942\n",
      " 170000/ 200000: 1.780918\n",
      " 180000/ 200000: 1.967285\n",
      " 190000/ 200000: 1.829464\n"
     ]
    }
   ],
   "source": [
    "max_steps = 200000\n",
    "batch_size = 32\n",
    "lossi = []\n",
    "\n",
    "for i in range(max_steps):\n",
    "    \n",
    "    #minibatch construct\n",
    "    ix = torch.randint(0, Xtr.shape[0], (batch_size, ), generator=g)\n",
    "    Xb, Yb = Xtr[ix], Ytr[ix]\n",
    "\n",
    "    #forward pass\n",
    "    emb = C[Xb]\n",
    "    embcat = emb.view(Xb.shape[0], -1)\n",
    "    hpreact = embcat@W1 + b1\n",
    "    h = torch.tanh(hpreact)\n",
    "    logits = h @ W2 + b2\n",
    "    loss = F.cross_entropy(logits, Yb)\n",
    "\n",
    "    #backward pass\n",
    "    for p in parameters:\n",
    "        p.grad = None\n",
    "    loss.backward()\n",
    "\n",
    "    #update\n",
    "    lr = 0.1 if i<100000 else 0.01\n",
    "    for p in parameters:\n",
    "        p.data += -lr * p.grad\n",
    "\n",
    "\n",
    "    # track stats\n",
    "    if i % 10000 == 0:\n",
    "        print(f\"{i:7d}/{max_steps:7d}: {loss.item():4f}\")\n",
    "    lossi.append(loss.log10().item())\n",
    "    # break\n",
    "    "
   ]
  },
  {
   "cell_type": "code",
   "execution_count": 24,
   "id": "88dea66b-109e-44d9-a3b7-439d92f201b4",
   "metadata": {},
   "outputs": [
    {
     "data": {
      "image/png": "[encoded data removed]",
      "text/plain": [
       "<Figure size 640x480 with 1 Axes>"
      ]
     },
     "metadata": {},
     "output_type": "display_data"
    }
   ],
   "source": [
    "plt.hist(h.view(-1).tolist(), 50);   # values are not close to -1 or 1 now"
   ]
  },
  {
   "cell_type": "code",
   "execution_count": 25,
   "id": "df81894b-1a19-41a1-8fc8-139c0a6bd4a5",
   "metadata": {},
   "outputs": [
    {
     "data": {
      "image/png": "[encoded data removed]",
      "text/plain": [
       "<Figure size 640x480 with 1 Axes>"
      ]
     },
     "metadata": {},
     "output_type": "display_data"
    }
   ],
   "source": [
    "plt.hist(hpreact.view(-1).tolist(), 50); # same here range is lower"
   ]
  },
  {
   "cell_type": "code",
   "execution_count": 26,
   "id": "c4506d34-d7d3-42b3-8f88-e57635dd2ddb",
   "metadata": {},
   "outputs": [
    {
     "data": {
      "text/plain": [
       "<matplotlib.image.AxesImage at 0x1053f4250>"
      ]
     },
     "execution_count": 26,
     "metadata": {},
     "output_type": "execute_result"
    },
    {
     "data": {
      "image/png": "[encoded data removed]",
      "text/plain": [
       "<Figure size 2000x1000 with 1 Axes>"
      ]
     },
     "metadata": {},
     "output_type": "display_data"
    }
   ],
   "source": [
    "plt.figure(figsize=(20,10))\n",
    "plt.imshow(h.abs()> 0.99, cmap='gray', interpolation='nearest')\n",
    "\n",
    "# white- true, black-false, if there was a column with full white would mean dead neuron"
   ]
  },
  {
   "cell_type": "code",
   "execution_count": 27,
   "id": "3b5bdf69-d0b3-43b7-b261-d5987de20a27",
   "metadata": {},
   "outputs": [
    {
     "data": {
      "image/png": "[encoded data removed]",
      "text/plain": [
       "<Figure size 640x480 with 1 Axes>"
      ]
     },
     "metadata": {},
     "output_type": "display_data"
    }
   ],
   "source": [
    "plt.plot(lossi);"
   ]
  },
  {
   "cell_type": "code",
   "execution_count": 28,
   "id": "7b0a63b4-8483-40c0-9de8-2db591e95ce2",
   "metadata": {},
   "outputs": [
    {
     "name": "stdout",
     "output_type": "stream",
     "text": [
      "train 2.0355966091156006\n",
      "val 2.1026785373687744\n"
     ]
    }
   ],
   "source": [
    "split_loss('train')\n",
    "split_loss('val')"
   ]
  },
  {
   "cell_type": "markdown",
   "id": "e9a84afe-1d82-4d69-bd27-30d22498c8e8",
   "metadata": {},
   "source": [
    "### Methodology behind finding multiplier that will limit the gaussian spread"
   ]
  },
  {
   "cell_type": "code",
   "execution_count": 41,
   "id": "025e4058-475e-45c7-b9b5-14dc8408e2ab",
   "metadata": {},
   "outputs": [
    {
     "name": "stdout",
     "output_type": "stream",
     "text": [
      "tensor(0.0032) tensor(1.0055)\n",
      "tensor(-0.0135) tensor(0.9753)\n",
      "tensor(0.0055) tensor(3.0978)\n"
     ]
    },
    {
     "data": {
      "image/png": "[encoded data removed]",
      "text/plain": [
       "<Figure size 2000x500 with 2 Axes>"
      ]
     },
     "metadata": {},
     "output_type": "display_data"
    }
   ],
   "source": [
    "x = torch.randn(1000, 10) #uniform gaussian\n",
    "w = torch.randn(10, 200) # uniform gaussian\n",
    "y = x @ w\n",
    "print(x.mean(), x.std())\n",
    "print(w.mean(), w.std())\n",
    "print(y.mean(), y.std())\n",
    "\n",
    "# standard deviation increases on multiplying but mean remains same so we need to downscale weights to remain uniform gaussian and keep standard deviation same.\n",
    "plt.figure(figsize=(20,5))\n",
    "plt.subplot(121)\n",
    "plt.hist(x.view(-1).tolist(), 50, density=True);\n",
    "plt.subplot(122)\n",
    "plt.hist(y.view(-1).tolist(), 50, density=True);"
   ]
  },
  {
   "cell_type": "code",
   "execution_count": 45,
   "id": "4df86653-a3d2-4557-8480-06481bb9fc35",
   "metadata": {},
   "outputs": [
    {
     "name": "stdout",
     "output_type": "stream",
     "text": [
      "tensor(0.0218) tensor(0.9948)\n",
      "tensor(-0.0151) tensor(0.3160)\n",
      "tensor(-0.0014) tensor(0.9963)\n"
     ]
    },
    {
     "data": {
      "image/png": "[encoded data removed]",
      "text/plain": [
       "<Figure size 2000x500 with 2 Axes>"
      ]
     },
     "metadata": {},
     "output_type": "display_data"
    }
   ],
   "source": [
    "## To find what to multiply to keep multiplication same as uniform gaussian, use Kaiming method. i.e. sqrt of fan_in\n",
    "\n",
    "x = torch.randn(1000, 10) #uniform gaussian\n",
    "w = torch.randn(10, 200) / 10**0.5 # uniform gaussian \n",
    "y = x @ w\n",
    "print(x.mean(), x.std())\n",
    "print(w.mean(), w.std())\n",
    "print(y.mean(), y.std())\n",
    "\n",
    "# now standard deviation remains almost same \n",
    "\n",
    "plt.figure(figsize=(20,5))\n",
    "plt.subplot(121)\n",
    "plt.hist(x.view(-1).tolist(), 50, density=True);\n",
    "plt.subplot(122)\n",
    "plt.hist(y.view(-1).tolist(), 50, density=True);"
   ]
  },
  {
   "cell_type": "code",
   "execution_count": 46,
   "id": "d0975cdd-c163-4d9e-884b-4ae1f83ea907",
   "metadata": {},
   "outputs": [
    {
     "name": "stdout",
     "output_type": "stream",
     "text": [
      "11897\n"
     ]
    }
   ],
   "source": [
    "# MLP revisited\n",
    "n_embd = 10 # the dimensionality of the character embedding vectors\n",
    "n_hidden = 200 # the number of neurons in the hidden layer of the MLP\n",
    "\n",
    "g = torch.Generator().manual_seed(2147483647) # for reproducibility\n",
    "C  = torch.randn((vocab_size, n_embd),            generator=g)\n",
    "W1 = torch.randn((n_embd * block_size, n_hidden), generator=g) * (5/3)/((n_embd * block_size)**0.5)   # kaiming method\n",
    "b1 = torch.randn(n_hidden,                        generator=g) * 0.01   # make tanh activation \n",
    "W2 = torch.randn((n_hidden, vocab_size),          generator=g) * 0.01   # reduce initial randomness\n",
    "b2 = torch.randn(vocab_size,                      generator=g) * 0      # reduce intial randomness\n",
    "\n",
    "parameters = [C, W1, b1, W2, b2]\n",
    "print(sum(p.nelement() for p in parameters)) # number of parameters in total\n",
    "for p in parameters:\n",
    "  p.requires_grad = True"
   ]
  },
  {
   "cell_type": "code",
   "execution_count": 47,
   "id": "2a2b53a9-f5ea-48e0-88d5-13653dac265a",
   "metadata": {},
   "outputs": [
    {
     "name": "stdout",
     "output_type": "stream",
     "text": [
      "      0/ 200000: 3.317901\n",
      "  10000/ 200000: 2.191044\n",
      "  20000/ 200000: 2.327004\n",
      "  30000/ 200000: 2.539579\n",
      "  40000/ 200000: 1.946813\n",
      "  50000/ 200000: 2.333054\n",
      "  60000/ 200000: 2.385176\n",
      "  70000/ 200000: 2.117301\n",
      "  80000/ 200000: 2.315899\n",
      "  90000/ 200000: 2.201018\n",
      " 100000/ 200000: 1.859077\n",
      " 110000/ 200000: 2.088105\n",
      " 120000/ 200000: 1.938938\n",
      " 130000/ 200000: 2.391335\n",
      " 140000/ 200000: 2.094917\n",
      " 150000/ 200000: 2.145783\n",
      " 160000/ 200000: 1.782431\n",
      " 170000/ 200000: 1.724870\n",
      " 180000/ 200000: 1.975150\n",
      " 190000/ 200000: 1.861384\n"
     ]
    }
   ],
   "source": [
    "max_steps = 200000\n",
    "batch_size = 32\n",
    "lossi = []\n",
    "\n",
    "for i in range(max_steps):\n",
    "    \n",
    "    #minibatch construct\n",
    "    ix = torch.randint(0, Xtr.shape[0], (batch_size, ), generator=g)\n",
    "    Xb, Yb = Xtr[ix], Ytr[ix]\n",
    "\n",
    "    #forward pass\n",
    "    emb = C[Xb]\n",
    "    embcat = emb.view(Xb.shape[0], -1)\n",
    "    hpreact = embcat@W1 + b1\n",
    "    h = torch.tanh(hpreact)\n",
    "    logits = h @ W2 + b2\n",
    "    loss = F.cross_entropy(logits, Yb)\n",
    "\n",
    "    #backward pass\n",
    "    for p in parameters:\n",
    "        p.grad = None\n",
    "    loss.backward()\n",
    "\n",
    "    #update\n",
    "    lr = 0.1 if i<100000 else 0.01\n",
    "    for p in parameters:\n",
    "        p.data += -lr * p.grad\n",
    "\n",
    "\n",
    "    # track stats\n",
    "    if i % 10000 == 0:\n",
    "        print(f\"{i:7d}/{max_steps:7d}: {loss.item():4f}\")\n",
    "    lossi.append(loss.log10().item())\n",
    "    # break\n",
    "    "
   ]
  },
  {
   "cell_type": "code",
   "execution_count": 49,
   "id": "c90cad0b-a08e-4d66-adc3-c91729fac40c",
   "metadata": {},
   "outputs": [
    {
     "name": "stdout",
     "output_type": "stream",
     "text": [
      "train 2.0376641750335693\n",
      "val 2.106989622116089\n"
     ]
    }
   ],
   "source": [
    "split_loss('train')\n",
    "split_loss('val')"
   ]
  },
  {
   "cell_type": "code",
   "execution_count": 52,
   "id": "b64fe159-ebd0-48b2-b18e-201d8acf1000",
   "metadata": {},
   "outputs": [],
   "source": [
    "# loss log\n",
    "\n",
    "# original \n",
    "# train 2.1256532669067383\n",
    "# val 2.1684703826904297\n",
    "\n",
    "# fix softmax confidentaly wrong\n",
    "# train 2.0695888996124268\n",
    "# val 2.131074905395508\n",
    "\n",
    "\n",
    "# fix tanh layer too saturated at initialzation, using kaiming method\n",
    "# train 2.0376641750335693\n",
    "# val 2.106989622116089\n"
   ]
  },
  {
   "cell_type": "markdown",
   "id": "be500071-3e79-45fe-ade8-ed06726e11ae",
   "metadata": {},
   "source": [
    "### Batch Normalization"
   ]
  },
  {
   "cell_type": "code",
   "execution_count": 69,
   "id": "88390a5a-772d-48f6-a354-4654b8ceba77",
   "metadata": {},
   "outputs": [
    {
     "name": "stdout",
     "output_type": "stream",
     "text": [
      "12097\n"
     ]
    }
   ],
   "source": [
    "# MLP revisited\n",
    "n_embd = 10 # the dimensionality of the character embedding vectors\n",
    "n_hidden = 200 # the number of neurons in the hidden layer of the MLP\n",
    "\n",
    "g = torch.Generator().manual_seed(2147483647) # for reproducibility\n",
    "C  = torch.randn((vocab_size, n_embd),            generator=g)\n",
    "W1 = torch.randn((n_embd * block_size, n_hidden), generator=g) * (5/3)/((n_embd * block_size)**0.5)   # kaiming method\n",
    "# b1 = torch.randn(n_hidden,                        generator=g) * 0.01   # make tanh activation  # bias is not needed anymore as it gets cancelled in batch norm and batch norm has it's own bias\n",
    "W2 = torch.randn((n_hidden, vocab_size),          generator=g) * 0.01   # reduce initial randomness\n",
    "b2 = torch.randn(vocab_size,                      generator=g) * 0      # reduce intial randomness\n",
    "\n",
    "#batch normalization parameters\n",
    "bn_gain = torch.ones((1, n_hidden))\n",
    "bn_bias = torch.zeros((1, n_hidden))\n",
    "\n",
    "# buffers which are not part of parameters and only used at inference\n",
    "bnmean_running = torch.zeros((1, n_hidden))  \n",
    "bnstd_running = torch.ones((1, n_hidden))\n",
    "\n",
    "\n",
    "parameters = [C, W1, W2, b2, bn_gain, bn_bias]\n",
    "print(sum(p.nelement() for p in parameters)) # number of parameters in total\n",
    "for p in parameters:\n",
    "  p.requires_grad = True"
   ]
  },
  {
   "cell_type": "code",
   "execution_count": 75,
   "id": "e576c7f7-0c74-4a77-8fff-1d6ad953958b",
   "metadata": {},
   "outputs": [
    {
     "name": "stdout",
     "output_type": "stream",
     "text": [
      "      0/ 200000: 2.186173\n",
      "  10000/ 200000: 1.982230\n",
      "  20000/ 200000: 2.390049\n",
      "  30000/ 200000: 2.115110\n",
      "  40000/ 200000: 2.166818\n",
      "  50000/ 200000: 2.086448\n",
      "  60000/ 200000: 2.260300\n",
      "  70000/ 200000: 2.309531\n",
      "  80000/ 200000: 2.186110\n",
      "  90000/ 200000: 1.925758\n",
      " 100000/ 200000: 2.100452\n",
      " 110000/ 200000: 2.366812\n",
      " 120000/ 200000: 1.979024\n",
      " 130000/ 200000: 1.697135\n",
      " 140000/ 200000: 1.942159\n",
      " 150000/ 200000: 2.021076\n",
      " 160000/ 200000: 1.860206\n",
      " 170000/ 200000: 1.784062\n",
      " 180000/ 200000: 1.995632\n",
      " 190000/ 200000: 2.147799\n"
     ]
    }
   ],
   "source": [
    "max_steps = 200000\n",
    "batch_size = 32\n",
    "lossi = []\n",
    "\n",
    "for i in range(max_steps):\n",
    "    \n",
    "    #minibatch construct\n",
    "    ix = torch.randint(0, Xtr.shape[0], (batch_size, ), generator=g)\n",
    "    Xb, Yb = Xtr[ix], Ytr[ix]\n",
    "\n",
    "    #forward pass\n",
    "    emb = C[Xb]      # embed the characters into vectors\n",
    "    embcat = emb.view(Xb.shape[0], -1)  # concatenate the vectors\n",
    "    \n",
    "    #linear layer\n",
    "    hpreact = embcat@W1 #  hidden layer preactivation\n",
    "    \n",
    "    # Batch Normalization Layer\n",
    "    # -----------------------------------------------\n",
    "    bnmeani = hpreact.mean(0, keepdim=True)\n",
    "    bnstdi = hpreact.std(0, keepdim=True)\n",
    "    hpreact = bn_gain * (hpreact - bnmeani) / bnstdi + bn_bias     # normalize activation layer\n",
    "    with torch.no_grad():\n",
    "        bnmean_running = 0.999 * bnmean_running + 0.001 * bnmeani    # 0.99, 0.01 are called momentum\n",
    "        bnstd_running = 0.999 * bnstd_running + 0.001 * bnstdi\n",
    "    \n",
    "    # -----------------------------------------------\n",
    "    \n",
    "    # non-linearity using tanh\n",
    "    \n",
    "    h = torch.tanh(hpreact) # hidden layer\n",
    "    logits = h @ W2 + b2    # output layer\n",
    "    loss = F.cross_entropy(logits, Yb)   # loss function\n",
    "\n",
    "    #backward pass\n",
    "    for p in parameters:\n",
    "        p.grad = None\n",
    "    loss.backward()\n",
    "\n",
    "    #update\n",
    "    lr = 0.1 if i<100000 else 0.01 # step rate decay\n",
    "    for p in parameters:\n",
    "        p.data += -lr * p.grad\n",
    "\n",
    "\n",
    "    # track stats\n",
    "    if i % 10000 == 0: # print every once in a while\n",
    "        print(f\"{i:7d}/{max_steps:7d}: {loss.item():4f}\")\n",
    "    lossi.append(loss.log10().item())\n",
    "    # break\n",
    "    "
   ]
  },
  {
   "cell_type": "code",
   "execution_count": 71,
   "id": "a9d39aba-f720-4ebe-832c-196c933d4296",
   "metadata": {},
   "outputs": [],
   "source": [
    "# update evaluation method to accomodate batch normalization\n",
    "@torch.no_grad()\n",
    "def split_loss(split):\n",
    "    x, y = {\n",
    "        'train': (Xtr, Ytr),\n",
    "        'test': (Xte, Yte),\n",
    "        'val': (Xdev, Ydev),\n",
    "    }[split]\n",
    "    emb = C[x]\n",
    "    embcat = emb.view(emb.shape[0], -1)\n",
    "    hpreact = embcat@W1\n",
    "    hpreact = bn_gain * ( hpreact - bnmean_running) / (bnstd_running) + bn_bias \n",
    "    h = torch.tanh(hpreact)\n",
    "    logits = h @ W2 + b2\n",
    "    loss = F.cross_entropy(logits, y)\n",
    "    print(split, loss.item())"
   ]
  },
  {
   "cell_type": "code",
   "execution_count": 72,
   "id": "8ece4479-94ae-4bc1-ab3b-17684ff74303",
   "metadata": {},
   "outputs": [
    {
     "name": "stdout",
     "output_type": "stream",
     "text": [
      "train 2.067383289337158\n",
      "val 2.106067180633545\n"
     ]
    }
   ],
   "source": [
    "split_loss('train')\n",
    "split_loss('val')"
   ]
  },
  {
   "cell_type": "code",
   "execution_count": 74,
   "id": "e137deef-d58c-432a-a82a-19b8336952b3",
   "metadata": {},
   "outputs": [],
   "source": [
    "# loss log\n",
    "\n",
    "# original \n",
    "# train 2.1256532669067383\n",
    "# val 2.1684703826904297\n",
    "\n",
    "# fix softmax confidentaly wrong\n",
    "# train 2.0695888996124268\n",
    "# val 2.131074905395508\n",
    "\n",
    "\n",
    "# fix tanh layer too saturated at initialzation, using kaiming method\n",
    "# train 2.0376641750335693\n",
    "# val 2.106989622116089\n",
    "\n",
    "\n",
    "# Batch normalization\n",
    "# train 2.067383289337158\n",
    "# val 2.106067180633545"
   ]
  },
  {
   "cell_type": "code",
   "execution_count": null,
   "id": "64d08262-568c-4b06-9ee7-f718a65a8206",
   "metadata": {},
   "outputs": [],
   "source": []
  },
  {
   "cell_type": "code",
   "execution_count": null,
   "id": "24521299-ad66-4f16-8c19-c65dfce07afa",
   "metadata": {},
   "outputs": [],
   "source": []
  }
 ],
 "metadata": {
  "kernelspec": {
   "display_name": "Python 3 (ipykernel)",
   "language": "python",
   "name": "python3"
  },
  "language_info": {
   "codemirror_mode": {
    "name": "ipython",
    "version": 3
   },
   "file_extension": ".py",
   "mimetype": "text/x-python",
   "name": "python",
   "nbconvert_exporter": "python",
   "pygments_lexer": "ipython3",
   "version": "3.10.4"
  }
 },
 "nbformat": 4,
 "nbformat_minor": 5
}
